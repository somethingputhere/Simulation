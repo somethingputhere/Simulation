{
 "cells": [
  {
   "cell_type": "code",
   "execution_count": 1,
   "id": "d9ee8b46",
   "metadata": {},
   "outputs": [],
   "source": [
    "import os\n",
    "import time\n",
    "import warnings\n",
    "import numpy as np\n",
    "import cvxpy as cp\n",
    "import pandas as pd\n",
    "from tqdm import tqdm\n",
    "from scipy.linalg import orth\n",
    "from scipy.optimize import minimize\n",
    "from matplotlib import pyplot as plt\n",
    "from matplotlib.ticker import LogFormatter\n",
    "from scipy.optimize import minimize, linprog\n",
    "from scipy.optimize import differential_evolution, NonlinearConstraint\n",
    "np.random.seed(1)\n",
    "warnings.filterwarnings(\"ignore\")"
   ]
  },
  {
   "cell_type": "code",
   "execution_count": 2,
   "id": "a9c99019",
   "metadata": {},
   "outputs": [],
   "source": [
    "def generate_action_set(trials, iterations, M, num_action, d, k):\n",
    "    \n",
    "    Action_list = np.zeros((trials, iterations, M, num_action, d))\n",
    "    Theta_list = np.zeros((trials, d, M))\n",
    "    B_star_list = np.zeros((trials, d, k))\n",
    "\n",
    "    for T in range(trials):\n",
    "\n",
    "        for m in range(M):\n",
    "\n",
    "            Action_list[T, :, m, :, :] = np.random.randn(iterations, num_action, d)\n",
    "\n",
    "        B_star = orth(np.random.rand(d, k))\n",
    "        W_star = np.random.rand(k, M)\n",
    "        Theta_star = np.dot(B_star, W_star)\n",
    "        \n",
    "        B_star_list[T] = B_star\n",
    "        Theta_list[T] = Theta_star\n",
    "        \n",
    "    return Action_list, Theta_list, B_star_list"
   ]
  },
  {
   "cell_type": "code",
   "execution_count": 3,
   "id": "a64fbb7c",
   "metadata": {},
   "outputs": [],
   "source": [
    "def init_altgdmin(X, t, Y, C, M, d, k):\n",
    "    \n",
    "    alpha = C * np.linalg.norm(Y, 'fro') / np.sqrt(t * M)\n",
    "    Y_trunc = np.where(np.abs(Y) > alpha, 0, Y)\n",
    "    \n",
    "    Theta_0 = np.zeros((d, M))\n",
    "    \n",
    "    for i in range(M):\n",
    "        \n",
    "        Theta_0[:, i] = np.sum(X[i].dot(np.diag(Y_trunc[i])), axis=1) / t\n",
    "    \n",
    "    U_0, Sigma_0, V_0 = np.linalg.svd(Theta_0, full_matrices = False)\n",
    "    \n",
    "    return U_0[:, :k]"
   ]
  },
  {
   "cell_type": "code",
   "execution_count": 4,
   "id": "669d4741",
   "metadata": {},
   "outputs": [],
   "source": [
    "def get_beta_our(sigma, k, n, L, ld, delta, S, N):\n",
    "    \n",
    "    beta = sigma * np.sqrt(k * np.log((1 + n * np.square(L) / ld) / delta)) + ((1 + 1 / np.sqrt(N)) * np.sqrt(ld) + 2 * np.sqrt(n / N)) * S\n",
    "    \n",
    "    return beta"
   ]
  },
  {
   "cell_type": "code",
   "execution_count": 5,
   "id": "f40dcde8-0491-4544-ab7b-c25cd4b04430",
   "metadata": {},
   "outputs": [],
   "source": [
    "def get_beta_ohter_estimator(sigma, k, n, L, ld, delta, S, delta_0):\n",
    "    \n",
    "    beta = sigma * np.sqrt(k * np.log((1 + n * np.square(L) / ld) / delta)) + ((1 + delta_0) * np.sqrt(ld) + 2 * np.sqrt(n) * L * delta_0) * S\n",
    "    \n",
    "    return beta"
   ]
  },
  {
   "cell_type": "code",
   "execution_count": 6,
   "id": "aded773e-616b-4b08-adba-6175cb30d392",
   "metadata": {},
   "outputs": [],
   "source": [
    "def get_beta_Abbasi(sigma, k, n, L, ld, delta, S):\n",
    "    \n",
    "    beta = sigma * np.sqrt(k * np.log((1 + n * np.square(L) / ld) / delta)) + np.sqrt(ld) * S\n",
    "    \n",
    "    return beta"
   ]
  },
  {
   "cell_type": "code",
   "execution_count": 7,
   "id": "2180aba1-6952-4a6d-a4e1-17861d08533f",
   "metadata": {},
   "outputs": [],
   "source": [
    "# cvxpy\n",
    "def get_decision(action_set, theta_hat, V, beta, d):\n",
    "\n",
    "    theta_list = []\n",
    "    reward_list = []\n",
    "\n",
    "    for action in action_set: \n",
    "\n",
    "        V_psd = cp.psd_wrap(V)\n",
    "        theta = cp.Variable(d)\n",
    "        objective = cp.Maximize(action.T @ theta)\n",
    "        constraint = cp.quad_form(theta - theta_hat, V_psd) <= beta ** 2\n",
    "        \n",
    "        problem = cp.Problem(objective, [constraint])\n",
    "        problem.solve(solver=cp.ECOS, abstol=1e-8, reltol=1e-8)\n",
    "\n",
    "        # print(problem.status)\n",
    "        \n",
    "        theta_list.append(theta.value)\n",
    "        reward_list.append(action.dot(theta.value))\n",
    "\n",
    "    decision = np.argmax(reward_list)\n",
    "    theta_tilde = theta_list[decision]\n",
    "    \n",
    "    return decision, theta_tilde"
   ]
  },
  {
   "cell_type": "code",
   "execution_count": 8,
   "id": "86f7b952",
   "metadata": {},
   "outputs": [],
   "source": [
    "CR_Trials = []\n",
    "CR_Trials_Abbasi = []\n",
    "CR_Trials_MOM = []\n",
    "d = 100\n",
    "M = 200\n",
    "k = 2\n",
    "C = 3\n",
    "ld = 1\n",
    "trials = 100\n",
    "delta = 1e-3\n",
    "sigma = 1e-1\n",
    "num_action = 5\n",
    "every_point = 25\n",
    "epoch_iter = 400\n",
    "epoch_iter_2 = 200\n",
    "iterations = epoch_iter + epoch_iter_2\n",
    "A, Theta, B_star_list = generate_action_set(trials, iterations, M+1, num_action, d, k)"
   ]
  },
  {
   "cell_type": "code",
   "execution_count": 9,
   "id": "29719c41",
   "metadata": {},
   "outputs": [],
   "source": [
    "# generate the noise of reward for each iteration\n",
    "noise_list = np.random.normal(0, sigma ** 2, size = (trials, iterations, M+1))"
   ]
  },
  {
   "cell_type": "code",
   "execution_count": 10,
   "id": "bda39ace",
   "metadata": {
    "scrolled": true
   },
   "outputs": [
    {
     "name": "stderr",
     "output_type": "stream",
     "text": [
      "trials:   0%|          | 0/100 [00:00<?, ?it/s]"
     ]
    },
    {
     "name": "stdout",
     "output_type": "stream",
     "text": [
      "subspace distance error is: 0.10949972063118743\n"
     ]
    },
    {
     "name": "stderr",
     "output_type": "stream",
     "text": [
      "trials:   1%|          | 1/100 [00:16<27:10, 16.47s/it]"
     ]
    },
    {
     "name": "stdout",
     "output_type": "stream",
     "text": [
      "subspace distance error is: 0.12427976964214311\n"
     ]
    },
    {
     "name": "stderr",
     "output_type": "stream",
     "text": [
      "trials:   2%|▏         | 2/100 [00:32<26:52, 16.46s/it]"
     ]
    },
    {
     "name": "stdout",
     "output_type": "stream",
     "text": [
      "subspace distance error is: 0.11355351651140146\n"
     ]
    },
    {
     "name": "stderr",
     "output_type": "stream",
     "text": [
      "trials:   3%|▎         | 3/100 [00:49<26:49, 16.60s/it]"
     ]
    },
    {
     "name": "stdout",
     "output_type": "stream",
     "text": [
      "subspace distance error is: 0.1265039116378269\n"
     ]
    },
    {
     "name": "stderr",
     "output_type": "stream",
     "text": [
      "trials:   4%|▍         | 4/100 [01:06<26:53, 16.81s/it]"
     ]
    },
    {
     "name": "stdout",
     "output_type": "stream",
     "text": [
      "subspace distance error is: 0.11641094091504571\n"
     ]
    },
    {
     "name": "stderr",
     "output_type": "stream",
     "text": [
      "trials:   5%|▌         | 5/100 [01:26<28:15, 17.84s/it]"
     ]
    },
    {
     "name": "stdout",
     "output_type": "stream",
     "text": [
      "subspace distance error is: 0.1170759034603606\n"
     ]
    },
    {
     "name": "stderr",
     "output_type": "stream",
     "text": [
      "trials:   6%|▌         | 6/100 [01:45<28:24, 18.13s/it]"
     ]
    },
    {
     "name": "stdout",
     "output_type": "stream",
     "text": [
      "subspace distance error is: 0.11378729460031356\n"
     ]
    },
    {
     "name": "stderr",
     "output_type": "stream",
     "text": [
      "trials:   7%|▋         | 7/100 [02:02<27:39, 17.84s/it]"
     ]
    },
    {
     "name": "stdout",
     "output_type": "stream",
     "text": [
      "subspace distance error is: 0.11754344397326463\n"
     ]
    },
    {
     "name": "stderr",
     "output_type": "stream",
     "text": [
      "trials:   8%|▊         | 8/100 [02:19<27:06, 17.68s/it]"
     ]
    },
    {
     "name": "stdout",
     "output_type": "stream",
     "text": [
      "subspace distance error is: 0.12878712455879934\n"
     ]
    },
    {
     "name": "stderr",
     "output_type": "stream",
     "text": [
      "trials:   9%|▉         | 9/100 [02:38<27:21, 18.03s/it]"
     ]
    },
    {
     "name": "stdout",
     "output_type": "stream",
     "text": [
      "subspace distance error is: 0.12407183284180495\n"
     ]
    },
    {
     "name": "stderr",
     "output_type": "stream",
     "text": [
      "trials:  10%|█         | 10/100 [02:56<27:00, 18.00s/it]"
     ]
    },
    {
     "name": "stdout",
     "output_type": "stream",
     "text": [
      "subspace distance error is: 0.12633008358572434\n"
     ]
    },
    {
     "name": "stderr",
     "output_type": "stream",
     "text": [
      "trials:  11%|█         | 11/100 [03:14<26:29, 17.86s/it]"
     ]
    },
    {
     "name": "stdout",
     "output_type": "stream",
     "text": [
      "subspace distance error is: 0.115789742119064\n"
     ]
    },
    {
     "name": "stderr",
     "output_type": "stream",
     "text": [
      "trials:  12%|█▏        | 12/100 [03:32<26:29, 18.07s/it]"
     ]
    },
    {
     "name": "stdout",
     "output_type": "stream",
     "text": [
      "subspace distance error is: 0.12420931515140585\n"
     ]
    },
    {
     "name": "stderr",
     "output_type": "stream",
     "text": [
      "trials:  13%|█▎        | 13/100 [03:50<26:02, 17.96s/it]"
     ]
    },
    {
     "name": "stdout",
     "output_type": "stream",
     "text": [
      "subspace distance error is: 0.11765075852516642\n"
     ]
    },
    {
     "name": "stderr",
     "output_type": "stream",
     "text": [
      "trials:  14%|█▍        | 14/100 [04:07<25:17, 17.64s/it]"
     ]
    },
    {
     "name": "stdout",
     "output_type": "stream",
     "text": [
      "subspace distance error is: 0.11596064055675177\n"
     ]
    },
    {
     "name": "stderr",
     "output_type": "stream",
     "text": [
      "trials:  15%|█▌        | 15/100 [04:24<24:53, 17.57s/it]"
     ]
    },
    {
     "name": "stdout",
     "output_type": "stream",
     "text": [
      "subspace distance error is: 0.10925075427701617\n"
     ]
    },
    {
     "name": "stderr",
     "output_type": "stream",
     "text": [
      "trials:  16%|█▌        | 16/100 [04:42<24:41, 17.64s/it]"
     ]
    },
    {
     "name": "stdout",
     "output_type": "stream",
     "text": [
      "subspace distance error is: 0.11562540974263312\n"
     ]
    },
    {
     "name": "stderr",
     "output_type": "stream",
     "text": [
      "trials:  17%|█▋        | 17/100 [04:59<24:07, 17.43s/it]"
     ]
    },
    {
     "name": "stdout",
     "output_type": "stream",
     "text": [
      "subspace distance error is: 0.102753563478875\n"
     ]
    },
    {
     "name": "stderr",
     "output_type": "stream",
     "text": [
      "trials:  18%|█▊        | 18/100 [05:16<23:34, 17.26s/it]"
     ]
    },
    {
     "name": "stdout",
     "output_type": "stream",
     "text": [
      "subspace distance error is: 0.12258402285752933\n"
     ]
    },
    {
     "name": "stderr",
     "output_type": "stream",
     "text": [
      "trials:  19%|█▉        | 19/100 [05:33<23:20, 17.29s/it]"
     ]
    },
    {
     "name": "stdout",
     "output_type": "stream",
     "text": [
      "subspace distance error is: 0.12102913794820115\n"
     ]
    },
    {
     "name": "stderr",
     "output_type": "stream",
     "text": [
      "trials:  20%|██        | 20/100 [05:50<23:03, 17.30s/it]"
     ]
    },
    {
     "name": "stdout",
     "output_type": "stream",
     "text": [
      "subspace distance error is: 0.12393253759662097\n"
     ]
    },
    {
     "name": "stderr",
     "output_type": "stream",
     "text": [
      "trials:  21%|██        | 21/100 [06:09<23:27, 17.82s/it]"
     ]
    },
    {
     "name": "stdout",
     "output_type": "stream",
     "text": [
      "subspace distance error is: 0.12104046265319691\n"
     ]
    },
    {
     "name": "stderr",
     "output_type": "stream",
     "text": [
      "trials:  22%|██▏       | 22/100 [06:27<23:11, 17.84s/it]"
     ]
    },
    {
     "name": "stdout",
     "output_type": "stream",
     "text": [
      "subspace distance error is: 0.11512430419104962\n"
     ]
    },
    {
     "name": "stderr",
     "output_type": "stream",
     "text": [
      "trials:  23%|██▎       | 23/100 [06:44<22:34, 17.59s/it]"
     ]
    },
    {
     "name": "stdout",
     "output_type": "stream",
     "text": [
      "subspace distance error is: 0.11810554429361478\n"
     ]
    },
    {
     "name": "stderr",
     "output_type": "stream",
     "text": [
      "trials:  24%|██▍       | 24/100 [07:01<21:49, 17.23s/it]"
     ]
    },
    {
     "name": "stdout",
     "output_type": "stream",
     "text": [
      "subspace distance error is: 0.11817578643685592\n"
     ]
    },
    {
     "name": "stderr",
     "output_type": "stream",
     "text": [
      "trials:  25%|██▌       | 25/100 [07:18<21:32, 17.23s/it]"
     ]
    },
    {
     "name": "stdout",
     "output_type": "stream",
     "text": [
      "subspace distance error is: 0.10843382011338557\n"
     ]
    },
    {
     "name": "stderr",
     "output_type": "stream",
     "text": [
      "trials:  26%|██▌       | 26/100 [07:34<20:57, 17.00s/it]"
     ]
    },
    {
     "name": "stdout",
     "output_type": "stream",
     "text": [
      "subspace distance error is: 0.11851700548383666\n"
     ]
    },
    {
     "name": "stderr",
     "output_type": "stream",
     "text": [
      "trials:  27%|██▋       | 27/100 [07:51<20:35, 16.92s/it]"
     ]
    },
    {
     "name": "stdout",
     "output_type": "stream",
     "text": [
      "subspace distance error is: 0.10611203768808163\n"
     ]
    },
    {
     "name": "stderr",
     "output_type": "stream",
     "text": [
      "trials:  28%|██▊       | 28/100 [08:09<20:27, 17.05s/it]"
     ]
    },
    {
     "name": "stdout",
     "output_type": "stream",
     "text": [
      "subspace distance error is: 0.12055711312455177\n"
     ]
    },
    {
     "name": "stderr",
     "output_type": "stream",
     "text": [
      "trials:  29%|██▉       | 29/100 [08:26<20:24, 17.24s/it]"
     ]
    },
    {
     "name": "stdout",
     "output_type": "stream",
     "text": [
      "subspace distance error is: 0.12827222319914888\n"
     ]
    },
    {
     "name": "stderr",
     "output_type": "stream",
     "text": [
      "trials:  30%|███       | 30/100 [08:43<20:04, 17.21s/it]"
     ]
    },
    {
     "name": "stdout",
     "output_type": "stream",
     "text": [
      "subspace distance error is: 0.10953227248259507\n"
     ]
    },
    {
     "name": "stderr",
     "output_type": "stream",
     "text": [
      "trials:  31%|███       | 31/100 [09:00<19:36, 17.05s/it]"
     ]
    },
    {
     "name": "stdout",
     "output_type": "stream",
     "text": [
      "subspace distance error is: 0.11192158427131568\n"
     ]
    },
    {
     "name": "stderr",
     "output_type": "stream",
     "text": [
      "trials:  32%|███▏      | 32/100 [09:17<19:12, 16.95s/it]"
     ]
    },
    {
     "name": "stdout",
     "output_type": "stream",
     "text": [
      "subspace distance error is: 0.12507304681129938\n"
     ]
    },
    {
     "name": "stderr",
     "output_type": "stream",
     "text": [
      "trials:  33%|███▎      | 33/100 [09:36<19:33, 17.52s/it]"
     ]
    },
    {
     "name": "stdout",
     "output_type": "stream",
     "text": [
      "subspace distance error is: 0.11113512796417023\n"
     ]
    },
    {
     "name": "stderr",
     "output_type": "stream",
     "text": [
      "trials:  34%|███▍      | 34/100 [09:52<18:58, 17.25s/it]"
     ]
    },
    {
     "name": "stdout",
     "output_type": "stream",
     "text": [
      "subspace distance error is: 0.11531916924294938\n"
     ]
    },
    {
     "name": "stderr",
     "output_type": "stream",
     "text": [
      "trials:  35%|███▌      | 35/100 [10:10<18:43, 17.28s/it]"
     ]
    },
    {
     "name": "stdout",
     "output_type": "stream",
     "text": [
      "subspace distance error is: 0.11398347438385986\n"
     ]
    },
    {
     "name": "stderr",
     "output_type": "stream",
     "text": [
      "trials:  36%|███▌      | 36/100 [10:27<18:22, 17.23s/it]"
     ]
    },
    {
     "name": "stdout",
     "output_type": "stream",
     "text": [
      "subspace distance error is: 0.10915447447560751\n"
     ]
    },
    {
     "name": "stderr",
     "output_type": "stream",
     "text": [
      "trials:  37%|███▋      | 37/100 [10:44<18:01, 17.17s/it]"
     ]
    },
    {
     "name": "stdout",
     "output_type": "stream",
     "text": [
      "subspace distance error is: 0.12094680566275752\n"
     ]
    },
    {
     "name": "stderr",
     "output_type": "stream",
     "text": [
      "trials:  38%|███▊      | 38/100 [11:03<18:19, 17.74s/it]"
     ]
    },
    {
     "name": "stdout",
     "output_type": "stream",
     "text": [
      "subspace distance error is: 0.11044261665134128\n"
     ]
    },
    {
     "name": "stderr",
     "output_type": "stream",
     "text": [
      "trials:  39%|███▉      | 39/100 [11:20<17:54, 17.61s/it]"
     ]
    },
    {
     "name": "stdout",
     "output_type": "stream",
     "text": [
      "subspace distance error is: 0.1148472867540375\n"
     ]
    },
    {
     "name": "stderr",
     "output_type": "stream",
     "text": [
      "trials:  40%|████      | 40/100 [11:39<17:58, 17.97s/it]"
     ]
    },
    {
     "name": "stdout",
     "output_type": "stream",
     "text": [
      "subspace distance error is: 0.09901475186526976\n"
     ]
    },
    {
     "name": "stderr",
     "output_type": "stream",
     "text": [
      "trials:  41%|████      | 41/100 [11:56<17:29, 17.79s/it]"
     ]
    },
    {
     "name": "stdout",
     "output_type": "stream",
     "text": [
      "subspace distance error is: 0.11486078502640314\n"
     ]
    },
    {
     "name": "stderr",
     "output_type": "stream",
     "text": [
      "trials:  42%|████▏     | 42/100 [12:15<17:36, 18.22s/it]"
     ]
    },
    {
     "name": "stdout",
     "output_type": "stream",
     "text": [
      "subspace distance error is: 0.11559076290157837\n"
     ]
    },
    {
     "name": "stderr",
     "output_type": "stream",
     "text": [
      "trials:  43%|████▎     | 43/100 [12:32<16:48, 17.69s/it]"
     ]
    },
    {
     "name": "stdout",
     "output_type": "stream",
     "text": [
      "subspace distance error is: 0.11106399571181906\n"
     ]
    },
    {
     "name": "stderr",
     "output_type": "stream",
     "text": [
      "trials:  44%|████▍     | 44/100 [12:49<16:22, 17.54s/it]"
     ]
    },
    {
     "name": "stdout",
     "output_type": "stream",
     "text": [
      "subspace distance error is: 0.10704804772311083\n"
     ]
    },
    {
     "name": "stderr",
     "output_type": "stream",
     "text": [
      "trials:  45%|████▌     | 45/100 [13:07<16:03, 17.52s/it]"
     ]
    },
    {
     "name": "stdout",
     "output_type": "stream",
     "text": [
      "subspace distance error is: 0.12485834368109798\n"
     ]
    },
    {
     "name": "stderr",
     "output_type": "stream",
     "text": [
      "trials:  46%|████▌     | 46/100 [13:24<15:44, 17.49s/it]"
     ]
    },
    {
     "name": "stdout",
     "output_type": "stream",
     "text": [
      "subspace distance error is: 0.11784686515122525\n"
     ]
    },
    {
     "name": "stderr",
     "output_type": "stream",
     "text": [
      "trials:  47%|████▋     | 47/100 [13:42<15:40, 17.75s/it]"
     ]
    },
    {
     "name": "stdout",
     "output_type": "stream",
     "text": [
      "subspace distance error is: 0.10474697687026288\n"
     ]
    },
    {
     "name": "stderr",
     "output_type": "stream",
     "text": [
      "trials:  48%|████▊     | 48/100 [13:59<15:11, 17.53s/it]"
     ]
    },
    {
     "name": "stdout",
     "output_type": "stream",
     "text": [
      "subspace distance error is: 0.1042013344689656\n"
     ]
    },
    {
     "name": "stderr",
     "output_type": "stream",
     "text": [
      "trials:  49%|████▉     | 49/100 [14:17<14:56, 17.57s/it]"
     ]
    },
    {
     "name": "stdout",
     "output_type": "stream",
     "text": [
      "subspace distance error is: 0.10577920313202352\n"
     ]
    },
    {
     "name": "stderr",
     "output_type": "stream",
     "text": [
      "trials:  50%|█████     | 50/100 [14:36<15:04, 18.09s/it]"
     ]
    },
    {
     "name": "stdout",
     "output_type": "stream",
     "text": [
      "subspace distance error is: 0.10973834011772093\n"
     ]
    },
    {
     "name": "stderr",
     "output_type": "stream",
     "text": [
      "trials:  51%|█████     | 51/100 [14:54<14:43, 18.04s/it]"
     ]
    },
    {
     "name": "stdout",
     "output_type": "stream",
     "text": [
      "subspace distance error is: 0.1266307561227533\n"
     ]
    },
    {
     "name": "stderr",
     "output_type": "stream",
     "text": [
      "trials:  52%|█████▏    | 52/100 [15:11<14:07, 17.66s/it]"
     ]
    },
    {
     "name": "stdout",
     "output_type": "stream",
     "text": [
      "subspace distance error is: 0.11360035873602711\n"
     ]
    },
    {
     "name": "stderr",
     "output_type": "stream",
     "text": [
      "trials:  53%|█████▎    | 53/100 [15:29<13:48, 17.63s/it]"
     ]
    },
    {
     "name": "stdout",
     "output_type": "stream",
     "text": [
      "subspace distance error is: 0.10775644940816771\n"
     ]
    },
    {
     "name": "stderr",
     "output_type": "stream",
     "text": [
      "trials:  54%|█████▍    | 54/100 [15:46<13:27, 17.56s/it]"
     ]
    },
    {
     "name": "stdout",
     "output_type": "stream",
     "text": [
      "subspace distance error is: 0.10619317314300941\n"
     ]
    },
    {
     "name": "stderr",
     "output_type": "stream",
     "text": [
      "trials:  55%|█████▌    | 55/100 [16:03<13:05, 17.46s/it]"
     ]
    },
    {
     "name": "stdout",
     "output_type": "stream",
     "text": [
      "subspace distance error is: 0.11637676456634073\n"
     ]
    },
    {
     "name": "stderr",
     "output_type": "stream",
     "text": [
      "trials:  56%|█████▌    | 56/100 [16:20<12:42, 17.32s/it]"
     ]
    },
    {
     "name": "stdout",
     "output_type": "stream",
     "text": [
      "subspace distance error is: 0.10587922771893554\n"
     ]
    },
    {
     "name": "stderr",
     "output_type": "stream",
     "text": [
      "trials:  57%|█████▋    | 57/100 [16:39<12:49, 17.89s/it]"
     ]
    },
    {
     "name": "stdout",
     "output_type": "stream",
     "text": [
      "subspace distance error is: 0.12557607846128735\n"
     ]
    },
    {
     "name": "stderr",
     "output_type": "stream",
     "text": [
      "trials:  58%|█████▊    | 58/100 [16:57<12:32, 17.91s/it]"
     ]
    },
    {
     "name": "stdout",
     "output_type": "stream",
     "text": [
      "subspace distance error is: 0.11424097907335141\n"
     ]
    },
    {
     "name": "stderr",
     "output_type": "stream",
     "text": [
      "trials:  59%|█████▉    | 59/100 [17:15<12:08, 17.76s/it]"
     ]
    },
    {
     "name": "stdout",
     "output_type": "stream",
     "text": [
      "subspace distance error is: 0.10931772520514614\n"
     ]
    },
    {
     "name": "stderr",
     "output_type": "stream",
     "text": [
      "trials:  60%|██████    | 60/100 [17:32<11:44, 17.60s/it]"
     ]
    },
    {
     "name": "stdout",
     "output_type": "stream",
     "text": [
      "subspace distance error is: 0.11291545368229283\n"
     ]
    },
    {
     "name": "stderr",
     "output_type": "stream",
     "text": [
      "trials:  61%|██████    | 61/100 [17:51<11:38, 17.91s/it]"
     ]
    },
    {
     "name": "stdout",
     "output_type": "stream",
     "text": [
      "subspace distance error is: 0.11360063514260614\n"
     ]
    },
    {
     "name": "stderr",
     "output_type": "stream",
     "text": [
      "trials:  62%|██████▏   | 62/100 [18:08<11:16, 17.81s/it]"
     ]
    },
    {
     "name": "stdout",
     "output_type": "stream",
     "text": [
      "subspace distance error is: 0.11686638707786347\n"
     ]
    },
    {
     "name": "stderr",
     "output_type": "stream",
     "text": [
      "trials:  63%|██████▎   | 63/100 [18:27<11:10, 18.11s/it]"
     ]
    },
    {
     "name": "stdout",
     "output_type": "stream",
     "text": [
      "subspace distance error is: 0.12235477802398975\n"
     ]
    },
    {
     "name": "stderr",
     "output_type": "stream",
     "text": [
      "trials:  64%|██████▍   | 64/100 [18:46<11:02, 18.39s/it]"
     ]
    },
    {
     "name": "stdout",
     "output_type": "stream",
     "text": [
      "subspace distance error is: 0.10204372957632676\n"
     ]
    },
    {
     "name": "stderr",
     "output_type": "stream",
     "text": [
      "trials:  65%|██████▌   | 65/100 [19:05<10:45, 18.44s/it]"
     ]
    },
    {
     "name": "stdout",
     "output_type": "stream",
     "text": [
      "subspace distance error is: 0.11048505462017297\n"
     ]
    },
    {
     "name": "stderr",
     "output_type": "stream",
     "text": [
      "trials:  66%|██████▌   | 66/100 [19:22<10:15, 18.09s/it]"
     ]
    },
    {
     "name": "stdout",
     "output_type": "stream",
     "text": [
      "subspace distance error is: 0.11155679756601276\n"
     ]
    },
    {
     "name": "stderr",
     "output_type": "stream",
     "text": [
      "trials:  67%|██████▋   | 67/100 [19:40<09:59, 18.17s/it]"
     ]
    },
    {
     "name": "stdout",
     "output_type": "stream",
     "text": [
      "subspace distance error is: 0.12985906051061502\n"
     ]
    },
    {
     "name": "stderr",
     "output_type": "stream",
     "text": [
      "trials:  68%|██████▊   | 68/100 [19:58<09:33, 17.93s/it]"
     ]
    },
    {
     "name": "stdout",
     "output_type": "stream",
     "text": [
      "subspace distance error is: 0.12349337499361462\n"
     ]
    },
    {
     "name": "stderr",
     "output_type": "stream",
     "text": [
      "trials:  69%|██████▉   | 69/100 [20:15<09:08, 17.70s/it]"
     ]
    },
    {
     "name": "stdout",
     "output_type": "stream",
     "text": [
      "subspace distance error is: 0.10470109924987131\n"
     ]
    },
    {
     "name": "stderr",
     "output_type": "stream",
     "text": [
      "trials:  70%|███████   | 70/100 [20:32<08:48, 17.61s/it]"
     ]
    },
    {
     "name": "stdout",
     "output_type": "stream",
     "text": [
      "subspace distance error is: 0.11263843432665084\n"
     ]
    },
    {
     "name": "stderr",
     "output_type": "stream",
     "text": [
      "trials:  71%|███████   | 71/100 [20:49<08:22, 17.33s/it]"
     ]
    },
    {
     "name": "stdout",
     "output_type": "stream",
     "text": [
      "subspace distance error is: 0.12081044235576127\n"
     ]
    },
    {
     "name": "stderr",
     "output_type": "stream",
     "text": [
      "trials:  72%|███████▏  | 72/100 [21:06<08:03, 17.28s/it]"
     ]
    },
    {
     "name": "stdout",
     "output_type": "stream",
     "text": [
      "subspace distance error is: 0.11420954843326325\n"
     ]
    },
    {
     "name": "stderr",
     "output_type": "stream",
     "text": [
      "trials:  73%|███████▎  | 73/100 [21:23<07:43, 17.15s/it]"
     ]
    },
    {
     "name": "stdout",
     "output_type": "stream",
     "text": [
      "subspace distance error is: 0.11476054364444398\n"
     ]
    },
    {
     "name": "stderr",
     "output_type": "stream",
     "text": [
      "trials:  74%|███████▍  | 74/100 [21:40<07:24, 17.08s/it]"
     ]
    },
    {
     "name": "stdout",
     "output_type": "stream",
     "text": [
      "subspace distance error is: 0.11947855892021236\n"
     ]
    },
    {
     "name": "stderr",
     "output_type": "stream",
     "text": [
      "trials:  75%|███████▌  | 75/100 [21:58<07:11, 17.28s/it]"
     ]
    },
    {
     "name": "stdout",
     "output_type": "stream",
     "text": [
      "subspace distance error is: 0.12494337653062627\n"
     ]
    },
    {
     "name": "stderr",
     "output_type": "stream",
     "text": [
      "trials:  76%|███████▌  | 76/100 [22:15<06:55, 17.32s/it]"
     ]
    },
    {
     "name": "stdout",
     "output_type": "stream",
     "text": [
      "subspace distance error is: 0.11078353845348939\n"
     ]
    },
    {
     "name": "stderr",
     "output_type": "stream",
     "text": [
      "trials:  77%|███████▋  | 77/100 [22:32<06:35, 17.19s/it]"
     ]
    },
    {
     "name": "stdout",
     "output_type": "stream",
     "text": [
      "subspace distance error is: 0.12071112905101186\n"
     ]
    },
    {
     "name": "stderr",
     "output_type": "stream",
     "text": [
      "trials:  78%|███████▊  | 78/100 [22:49<06:19, 17.24s/it]"
     ]
    },
    {
     "name": "stdout",
     "output_type": "stream",
     "text": [
      "subspace distance error is: 0.1035622211773665\n"
     ]
    },
    {
     "name": "stderr",
     "output_type": "stream",
     "text": [
      "trials:  79%|███████▉  | 79/100 [23:07<06:02, 17.28s/it]"
     ]
    },
    {
     "name": "stdout",
     "output_type": "stream",
     "text": [
      "subspace distance error is: 0.10671222871245055\n"
     ]
    },
    {
     "name": "stderr",
     "output_type": "stream",
     "text": [
      "trials:  80%|████████  | 80/100 [23:24<05:45, 17.26s/it]"
     ]
    },
    {
     "name": "stdout",
     "output_type": "stream",
     "text": [
      "subspace distance error is: 0.10791638028450161\n"
     ]
    },
    {
     "name": "stderr",
     "output_type": "stream",
     "text": [
      "trials:  81%|████████  | 81/100 [23:42<05:30, 17.41s/it]"
     ]
    },
    {
     "name": "stdout",
     "output_type": "stream",
     "text": [
      "subspace distance error is: 0.11509425361789348\n"
     ]
    },
    {
     "name": "stderr",
     "output_type": "stream",
     "text": [
      "trials:  82%|████████▏ | 82/100 [24:00<05:19, 17.76s/it]"
     ]
    },
    {
     "name": "stdout",
     "output_type": "stream",
     "text": [
      "subspace distance error is: 0.10777408981784095\n"
     ]
    },
    {
     "name": "stderr",
     "output_type": "stream",
     "text": [
      "trials:  83%|████████▎ | 83/100 [24:18<05:01, 17.76s/it]"
     ]
    },
    {
     "name": "stdout",
     "output_type": "stream",
     "text": [
      "subspace distance error is: 0.10731623443955614\n"
     ]
    },
    {
     "name": "stderr",
     "output_type": "stream",
     "text": [
      "trials:  84%|████████▍ | 84/100 [24:36<04:46, 17.88s/it]"
     ]
    },
    {
     "name": "stdout",
     "output_type": "stream",
     "text": [
      "subspace distance error is: 0.12809641065397395\n"
     ]
    },
    {
     "name": "stderr",
     "output_type": "stream",
     "text": [
      "trials:  85%|████████▌ | 85/100 [24:54<04:30, 18.00s/it]"
     ]
    },
    {
     "name": "stdout",
     "output_type": "stream",
     "text": [
      "subspace distance error is: 0.11315548373202675\n"
     ]
    },
    {
     "name": "stderr",
     "output_type": "stream",
     "text": [
      "trials:  86%|████████▌ | 86/100 [25:14<04:19, 18.50s/it]"
     ]
    },
    {
     "name": "stdout",
     "output_type": "stream",
     "text": [
      "subspace distance error is: 0.12186144901025783\n"
     ]
    },
    {
     "name": "stderr",
     "output_type": "stream",
     "text": [
      "trials:  87%|████████▋ | 87/100 [25:31<03:55, 18.10s/it]"
     ]
    },
    {
     "name": "stdout",
     "output_type": "stream",
     "text": [
      "subspace distance error is: 0.11282649666499617\n"
     ]
    },
    {
     "name": "stderr",
     "output_type": "stream",
     "text": [
      "trials:  88%|████████▊ | 88/100 [25:49<03:34, 17.89s/it]"
     ]
    },
    {
     "name": "stdout",
     "output_type": "stream",
     "text": [
      "subspace distance error is: 0.11470762601201899\n"
     ]
    },
    {
     "name": "stderr",
     "output_type": "stream",
     "text": [
      "trials:  89%|████████▉ | 89/100 [26:06<03:16, 17.87s/it]"
     ]
    },
    {
     "name": "stdout",
     "output_type": "stream",
     "text": [
      "subspace distance error is: 0.11671214549338477\n"
     ]
    },
    {
     "name": "stderr",
     "output_type": "stream",
     "text": [
      "trials:  90%|█████████ | 90/100 [26:25<03:00, 18.06s/it]"
     ]
    },
    {
     "name": "stdout",
     "output_type": "stream",
     "text": [
      "subspace distance error is: 0.10528608678303226\n"
     ]
    },
    {
     "name": "stderr",
     "output_type": "stream",
     "text": [
      "trials:  91%|█████████ | 91/100 [26:43<02:43, 18.19s/it]"
     ]
    },
    {
     "name": "stdout",
     "output_type": "stream",
     "text": [
      "subspace distance error is: 0.12249993103881232\n"
     ]
    },
    {
     "name": "stderr",
     "output_type": "stream",
     "text": [
      "trials:  92%|█████████▏| 92/100 [27:00<02:22, 17.79s/it]"
     ]
    },
    {
     "name": "stdout",
     "output_type": "stream",
     "text": [
      "subspace distance error is: 0.11286624171790521\n"
     ]
    },
    {
     "name": "stderr",
     "output_type": "stream",
     "text": [
      "trials:  93%|█████████▎| 93/100 [27:17<02:03, 17.58s/it]"
     ]
    },
    {
     "name": "stdout",
     "output_type": "stream",
     "text": [
      "subspace distance error is: 0.12959080844023463\n"
     ]
    },
    {
     "name": "stderr",
     "output_type": "stream",
     "text": [
      "trials:  94%|█████████▍| 94/100 [27:35<01:45, 17.52s/it]"
     ]
    },
    {
     "name": "stdout",
     "output_type": "stream",
     "text": [
      "subspace distance error is: 0.11237202232783011\n"
     ]
    },
    {
     "name": "stderr",
     "output_type": "stream",
     "text": [
      "trials:  95%|█████████▌| 95/100 [27:51<01:25, 17.11s/it]"
     ]
    },
    {
     "name": "stdout",
     "output_type": "stream",
     "text": [
      "subspace distance error is: 0.11686290055395754\n"
     ]
    },
    {
     "name": "stderr",
     "output_type": "stream",
     "text": [
      "trials:  96%|█████████▌| 96/100 [28:09<01:09, 17.26s/it]"
     ]
    },
    {
     "name": "stdout",
     "output_type": "stream",
     "text": [
      "subspace distance error is: 0.12123185966221299\n"
     ]
    },
    {
     "name": "stderr",
     "output_type": "stream",
     "text": [
      "trials:  97%|█████████▋| 97/100 [28:27<00:52, 17.60s/it]"
     ]
    },
    {
     "name": "stdout",
     "output_type": "stream",
     "text": [
      "subspace distance error is: 0.10562380397260077\n"
     ]
    },
    {
     "name": "stderr",
     "output_type": "stream",
     "text": [
      "trials:  98%|█████████▊| 98/100 [28:44<00:34, 17.46s/it]"
     ]
    },
    {
     "name": "stdout",
     "output_type": "stream",
     "text": [
      "subspace distance error is: 0.11457298885074478\n"
     ]
    },
    {
     "name": "stderr",
     "output_type": "stream",
     "text": [
      "trials:  99%|█████████▉| 99/100 [29:02<00:17, 17.71s/it]"
     ]
    },
    {
     "name": "stdout",
     "output_type": "stream",
     "text": [
      "subspace distance error is: 0.10992589369953334\n"
     ]
    },
    {
     "name": "stderr",
     "output_type": "stream",
     "text": [
      "trials: 100%|██████████| 100/100 [29:20<00:00, 17.60s/it]"
     ]
    },
    {
     "name": "stdout",
     "output_type": "stream",
     "text": [
      "Finished! The total time we use is:  1760.5436556339264\n"
     ]
    },
    {
     "name": "stderr",
     "output_type": "stream",
     "text": [
      "\n"
     ]
    }
   ],
   "source": [
    "# Our Algorithm\n",
    "start = time.time()\n",
    "\n",
    "for T in tqdm(range(trials), desc = 'trials'):\n",
    "    \n",
    "#     print('Trial:', T)\n",
    "    \n",
    "    action_set = A[T]\n",
    "    B_star = B_star_list[T]\n",
    "    Theta_star = Theta[T]\n",
    "    noise_T = noise_list[T]\n",
    "\n",
    "    L = np.max(np.linalg.norm(action_set[:, -1, :, :], axis=-1))\n",
    "    S = np.linalg.norm(Theta_star[:, -1])\n",
    "    \n",
    "    B_hat = np.zeros((d, k))\n",
    "    W_hat = np.zeros((k, M))\n",
    "    Theta_hat = B_hat.dot(W_hat)\n",
    "    w_hat = np.zeros(k)\n",
    "    theta_hat = B_hat.dot(w_hat)\n",
    "    \n",
    "    cumulative_regret = 0\n",
    "    cummulative_regret_list = []\n",
    "    \n",
    "    X = np.zeros((M, d, epoch_iter))\n",
    "    Y = np.zeros((M, epoch_iter))\n",
    "    V = ld * np.eye(d)\n",
    "    U = np.zeros((k, 1))\n",
    "    \n",
    "    for t in range(epoch_iter):\n",
    "        \n",
    "        for i in range(M):\n",
    "            \n",
    "            action = np.argmax(np.dot(action_set[t, i], Theta_hat[:, i]))\n",
    "            reward = action_set[t, i, action].dot(Theta_star[:, i])\n",
    "            \n",
    "            X[i, :, t] = action_set[t, i, action]\n",
    "            Y[i, t] = reward + noise_T[t, i]\n",
    "            \n",
    "    B_hat = init_altgdmin(X, epoch_iter, Y, C, M, d, k)\n",
    "    delta_0 = np.linalg.norm((np.eye(d)-B_star.dot(B_star.T)).dot(B_hat), ord='fro')\n",
    "    print('subspace distance error is:', delta_0)\n",
    "    \n",
    "    for t in range(epoch_iter, iterations):\n",
    "        \n",
    "        beta = get_beta_our(sigma, k, t - epoch_iter + 1, L, ld, delta, S, iterations - epoch_iter)\n",
    "        decision, theta_tilde = get_decision(action_set[t, -1], theta_hat, V, beta, d)\n",
    "        \n",
    "        reward = action_set[t, -1, decision].dot(Theta_star[:, -1])\n",
    "        cumulative_regret += np.max(np.dot(action_set[t, -1], Theta_star[:, -1])) - reward\n",
    "        \n",
    "        V += action_set[t, -1, decision].reshape(-1, 1).dot(action_set[t, -1, decision].reshape(1, -1))\n",
    "        U += B_hat.T.dot(action_set[t, -1, decision].reshape(-1, 1)) * (reward + noise_T[t, -1])\n",
    "        w_hat = np.linalg.inv(B_hat.T.dot(V).dot(B_hat)).dot(U).reshape(-1)\n",
    "        theta_hat = B_hat.dot(w_hat)\n",
    "            \n",
    "        cummulative_regret_list.append(cumulative_regret)\n",
    "        # print('parameter error is {} and cumulative regret is {}'.format(np.linalg.norm(theta_hat-Theta_star[:, -1]), cumulative_regret))\n",
    "            \n",
    "    CR_Trials.append((T, cummulative_regret_list))\n",
    "    \n",
    "end = time.time()\n",
    "print('Finished! The total time we use is: ', end - start)"
   ]
  },
  {
   "cell_type": "code",
   "execution_count": 11,
   "id": "2e47ac74-73ee-46c1-af41-976d8b6ccb73",
   "metadata": {
    "scrolled": true
   },
   "outputs": [
    {
     "name": "stderr",
     "output_type": "stream",
     "text": [
      "trials: 100%|██████████| 100/100 [27:32<00:00, 16.52s/it]"
     ]
    },
    {
     "name": "stdout",
     "output_type": "stream",
     "text": [
      "Finished! The total time we use is:  1652.503741979599\n"
     ]
    },
    {
     "name": "stderr",
     "output_type": "stream",
     "text": [
      "\n"
     ]
    }
   ],
   "source": [
    "# Abbasi Algorithm\n",
    "start = time.time()\n",
    "\n",
    "for T in tqdm(range(trials), desc = 'trials'):\n",
    "    \n",
    "#     print('Trial:', T)\n",
    "    \n",
    "    action_set = A[T]\n",
    "    Theta_star = Theta[T]\n",
    "    noise_T = noise_list[T]\n",
    "\n",
    "    L = np.max(np.linalg.norm(action_set[:, -1, :, :], axis=-1))\n",
    "    S = np.linalg.norm(Theta_star[:, -1])\n",
    "    \n",
    "    theta_hat = np.zeros(d)\n",
    "    \n",
    "    cumulative_regret = 0\n",
    "    cummulative_regret_list = []\n",
    "    \n",
    "    V = ld * np.eye(d)\n",
    "    U = np.zeros((d, 1))\n",
    "    \n",
    "    for t in range(epoch_iter, iterations):\n",
    "        \n",
    "        beta = get_beta_Abbasi(sigma, d, t - epoch_iter + 1, L, ld, delta, S)\n",
    "        decision, theta_tilde = get_decision(action_set[t, -1], theta_hat, V, beta, d)\n",
    "        \n",
    "        reward = action_set[t, -1, decision].dot(Theta_star[:, -1])\n",
    "        cumulative_regret += np.max(np.dot(action_set[t, -1], Theta_star[:, -1])) - reward\n",
    "        \n",
    "        V += action_set[t, -1, decision].reshape(-1, 1).dot(action_set[t, -1, decision].reshape(1, -1))\n",
    "        U += action_set[t, -1, decision].reshape(-1, 1) * (reward + noise_T[t, -1])\n",
    "        theta_hat = np.linalg.inv(V).dot(U).reshape(-1)\n",
    "            \n",
    "        cummulative_regret_list.append(cumulative_regret)\n",
    "        # print('cumulative regret is {}'.format(cumulative_regret))\n",
    "            \n",
    "    CR_Trials_Abbasi.append((T, cummulative_regret_list))\n",
    "    \n",
    "end = time.time()\n",
    "print('Finished! The total time we use is: ', end - start)"
   ]
  },
  {
   "cell_type": "code",
   "execution_count": 12,
   "id": "6166944d-9c18-44ab-934e-40c0b52d7e04",
   "metadata": {},
   "outputs": [
    {
     "name": "stderr",
     "output_type": "stream",
     "text": [
      "trials:   0%|          | 0/100 [00:00<?, ?it/s]"
     ]
    },
    {
     "name": "stdout",
     "output_type": "stream",
     "text": [
      "subspace distance error is: 0.3835815276736477\n"
     ]
    },
    {
     "name": "stderr",
     "output_type": "stream",
     "text": [
      "trials:   1%|          | 1/100 [00:16<27:41, 16.78s/it]"
     ]
    },
    {
     "name": "stdout",
     "output_type": "stream",
     "text": [
      "subspace distance error is: 0.39745314495639167\n"
     ]
    },
    {
     "name": "stderr",
     "output_type": "stream",
     "text": [
      "trials:   2%|▏         | 2/100 [00:32<26:45, 16.38s/it]"
     ]
    },
    {
     "name": "stdout",
     "output_type": "stream",
     "text": [
      "subspace distance error is: 0.3521950609028064\n"
     ]
    },
    {
     "name": "stderr",
     "output_type": "stream",
     "text": [
      "trials:   3%|▎         | 3/100 [00:49<26:58, 16.69s/it]"
     ]
    },
    {
     "name": "stdout",
     "output_type": "stream",
     "text": [
      "subspace distance error is: 0.3682036806821584\n"
     ]
    },
    {
     "name": "stderr",
     "output_type": "stream",
     "text": [
      "trials:   4%|▍         | 4/100 [01:06<26:40, 16.67s/it]"
     ]
    },
    {
     "name": "stdout",
     "output_type": "stream",
     "text": [
      "subspace distance error is: 0.34973100258544826\n"
     ]
    },
    {
     "name": "stderr",
     "output_type": "stream",
     "text": [
      "trials:   5%|▌         | 5/100 [01:25<27:54, 17.63s/it]"
     ]
    },
    {
     "name": "stdout",
     "output_type": "stream",
     "text": [
      "subspace distance error is: 0.3516744511216981\n"
     ]
    },
    {
     "name": "stderr",
     "output_type": "stream",
     "text": [
      "trials:   6%|▌         | 6/100 [01:44<28:05, 17.93s/it]"
     ]
    },
    {
     "name": "stdout",
     "output_type": "stream",
     "text": [
      "subspace distance error is: 0.4255606705699342\n"
     ]
    },
    {
     "name": "stderr",
     "output_type": "stream",
     "text": [
      "trials:   7%|▋         | 7/100 [02:01<27:15, 17.59s/it]"
     ]
    },
    {
     "name": "stdout",
     "output_type": "stream",
     "text": [
      "subspace distance error is: 0.3395060306663118\n"
     ]
    },
    {
     "name": "stderr",
     "output_type": "stream",
     "text": [
      "trials:   8%|▊         | 8/100 [02:18<26:47, 17.47s/it]"
     ]
    },
    {
     "name": "stdout",
     "output_type": "stream",
     "text": [
      "subspace distance error is: 0.3636277020534375\n"
     ]
    },
    {
     "name": "stderr",
     "output_type": "stream",
     "text": [
      "trials:   9%|▉         | 9/100 [02:36<26:45, 17.64s/it]"
     ]
    },
    {
     "name": "stdout",
     "output_type": "stream",
     "text": [
      "subspace distance error is: 0.40462329648205425\n"
     ]
    },
    {
     "name": "stderr",
     "output_type": "stream",
     "text": [
      "trials:  10%|█         | 10/100 [02:53<26:08, 17.43s/it]"
     ]
    },
    {
     "name": "stdout",
     "output_type": "stream",
     "text": [
      "subspace distance error is: 0.3920227389136776\n"
     ]
    },
    {
     "name": "stderr",
     "output_type": "stream",
     "text": [
      "trials:  11%|█         | 11/100 [03:10<25:40, 17.31s/it]"
     ]
    },
    {
     "name": "stdout",
     "output_type": "stream",
     "text": [
      "subspace distance error is: 0.33758904848894694\n"
     ]
    },
    {
     "name": "stderr",
     "output_type": "stream",
     "text": [
      "trials:  12%|█▏        | 12/100 [03:28<25:41, 17.52s/it]"
     ]
    },
    {
     "name": "stdout",
     "output_type": "stream",
     "text": [
      "subspace distance error is: 0.3738713210915362\n"
     ]
    },
    {
     "name": "stderr",
     "output_type": "stream",
     "text": [
      "trials:  13%|█▎        | 13/100 [03:46<25:28, 17.57s/it]"
     ]
    },
    {
     "name": "stdout",
     "output_type": "stream",
     "text": [
      "subspace distance error is: 0.3194441870189919\n"
     ]
    },
    {
     "name": "stderr",
     "output_type": "stream",
     "text": [
      "trials:  14%|█▍        | 14/100 [04:03<24:59, 17.43s/it]"
     ]
    },
    {
     "name": "stdout",
     "output_type": "stream",
     "text": [
      "subspace distance error is: 0.3912771160736352\n"
     ]
    },
    {
     "name": "stderr",
     "output_type": "stream",
     "text": [
      "trials:  15%|█▌        | 15/100 [04:20<24:32, 17.32s/it]"
     ]
    },
    {
     "name": "stdout",
     "output_type": "stream",
     "text": [
      "subspace distance error is: 0.33607182417237247\n"
     ]
    },
    {
     "name": "stderr",
     "output_type": "stream",
     "text": [
      "trials:  16%|█▌        | 16/100 [04:36<23:55, 17.09s/it]"
     ]
    },
    {
     "name": "stdout",
     "output_type": "stream",
     "text": [
      "subspace distance error is: 0.3287679023526523\n"
     ]
    },
    {
     "name": "stderr",
     "output_type": "stream",
     "text": [
      "trials:  17%|█▋        | 17/100 [04:54<23:49, 17.23s/it]"
     ]
    },
    {
     "name": "stdout",
     "output_type": "stream",
     "text": [
      "subspace distance error is: 0.3295857543541953\n"
     ]
    },
    {
     "name": "stderr",
     "output_type": "stream",
     "text": [
      "trials:  18%|█▊        | 18/100 [05:11<23:29, 17.18s/it]"
     ]
    },
    {
     "name": "stdout",
     "output_type": "stream",
     "text": [
      "subspace distance error is: 0.3209102492261294\n"
     ]
    },
    {
     "name": "stderr",
     "output_type": "stream",
     "text": [
      "trials:  19%|█▉        | 19/100 [05:28<22:56, 16.99s/it]"
     ]
    },
    {
     "name": "stdout",
     "output_type": "stream",
     "text": [
      "subspace distance error is: 0.29053145679141007\n"
     ]
    },
    {
     "name": "stderr",
     "output_type": "stream",
     "text": [
      "trials:  20%|██        | 20/100 [05:45<22:46, 17.08s/it]"
     ]
    },
    {
     "name": "stdout",
     "output_type": "stream",
     "text": [
      "subspace distance error is: 0.3628629657905631\n"
     ]
    },
    {
     "name": "stderr",
     "output_type": "stream",
     "text": [
      "trials:  21%|██        | 21/100 [06:00<21:50, 16.59s/it]"
     ]
    },
    {
     "name": "stdout",
     "output_type": "stream",
     "text": [
      "subspace distance error is: 0.3575390695381556\n"
     ]
    },
    {
     "name": "stderr",
     "output_type": "stream",
     "text": [
      "trials:  22%|██▏       | 22/100 [06:17<21:32, 16.58s/it]"
     ]
    },
    {
     "name": "stdout",
     "output_type": "stream",
     "text": [
      "subspace distance error is: 0.32638825616001216\n"
     ]
    },
    {
     "name": "stderr",
     "output_type": "stream",
     "text": [
      "trials:  23%|██▎       | 23/100 [06:33<21:13, 16.53s/it]"
     ]
    },
    {
     "name": "stdout",
     "output_type": "stream",
     "text": [
      "subspace distance error is: 0.3724162359859419\n"
     ]
    },
    {
     "name": "stderr",
     "output_type": "stream",
     "text": [
      "trials:  24%|██▍       | 24/100 [06:49<20:44, 16.37s/it]"
     ]
    },
    {
     "name": "stdout",
     "output_type": "stream",
     "text": [
      "subspace distance error is: 0.36347398977834827\n"
     ]
    },
    {
     "name": "stderr",
     "output_type": "stream",
     "text": [
      "trials:  25%|██▌       | 25/100 [07:06<20:42, 16.57s/it]"
     ]
    },
    {
     "name": "stdout",
     "output_type": "stream",
     "text": [
      "subspace distance error is: 0.39568193148135133\n"
     ]
    },
    {
     "name": "stderr",
     "output_type": "stream",
     "text": [
      "trials:  26%|██▌       | 26/100 [07:23<20:23, 16.53s/it]"
     ]
    },
    {
     "name": "stdout",
     "output_type": "stream",
     "text": [
      "subspace distance error is: 0.33151978996283943\n"
     ]
    },
    {
     "name": "stderr",
     "output_type": "stream",
     "text": [
      "trials:  27%|██▋       | 27/100 [07:39<20:03, 16.48s/it]"
     ]
    },
    {
     "name": "stdout",
     "output_type": "stream",
     "text": [
      "subspace distance error is: 0.3407760700704263\n"
     ]
    },
    {
     "name": "stderr",
     "output_type": "stream",
     "text": [
      "trials:  28%|██▊       | 28/100 [07:56<19:51, 16.55s/it]"
     ]
    },
    {
     "name": "stdout",
     "output_type": "stream",
     "text": [
      "subspace distance error is: 0.41507667246125557\n"
     ]
    },
    {
     "name": "stderr",
     "output_type": "stream",
     "text": [
      "trials:  29%|██▉       | 29/100 [08:12<19:31, 16.49s/it]"
     ]
    },
    {
     "name": "stdout",
     "output_type": "stream",
     "text": [
      "subspace distance error is: 0.4198439982904426\n"
     ]
    },
    {
     "name": "stderr",
     "output_type": "stream",
     "text": [
      "trials:  30%|███       | 30/100 [08:29<19:16, 16.53s/it]"
     ]
    },
    {
     "name": "stdout",
     "output_type": "stream",
     "text": [
      "subspace distance error is: 0.3177306500472014\n"
     ]
    },
    {
     "name": "stderr",
     "output_type": "stream",
     "text": [
      "trials:  31%|███       | 31/100 [08:45<19:02, 16.55s/it]"
     ]
    },
    {
     "name": "stdout",
     "output_type": "stream",
     "text": [
      "subspace distance error is: 0.3273704942837613\n"
     ]
    },
    {
     "name": "stderr",
     "output_type": "stream",
     "text": [
      "trials:  32%|███▏      | 32/100 [09:02<18:40, 16.48s/it]"
     ]
    },
    {
     "name": "stdout",
     "output_type": "stream",
     "text": [
      "subspace distance error is: 0.3474208094726574\n"
     ]
    },
    {
     "name": "stderr",
     "output_type": "stream",
     "text": [
      "trials:  33%|███▎      | 33/100 [09:17<18:05, 16.19s/it]"
     ]
    },
    {
     "name": "stdout",
     "output_type": "stream",
     "text": [
      "subspace distance error is: 0.3257194384826073\n"
     ]
    },
    {
     "name": "stderr",
     "output_type": "stream",
     "text": [
      "trials:  34%|███▍      | 34/100 [09:34<17:50, 16.22s/it]"
     ]
    },
    {
     "name": "stdout",
     "output_type": "stream",
     "text": [
      "subspace distance error is: 0.3265297378667964\n"
     ]
    },
    {
     "name": "stderr",
     "output_type": "stream",
     "text": [
      "trials:  35%|███▌      | 35/100 [09:51<17:53, 16.51s/it]"
     ]
    },
    {
     "name": "stdout",
     "output_type": "stream",
     "text": [
      "subspace distance error is: 0.3027799825074999\n"
     ]
    },
    {
     "name": "stderr",
     "output_type": "stream",
     "text": [
      "trials:  36%|███▌      | 36/100 [10:08<17:50, 16.72s/it]"
     ]
    },
    {
     "name": "stdout",
     "output_type": "stream",
     "text": [
      "subspace distance error is: 0.35218043676865773\n"
     ]
    },
    {
     "name": "stderr",
     "output_type": "stream",
     "text": [
      "trials:  37%|███▋      | 37/100 [10:26<17:52, 17.02s/it]"
     ]
    },
    {
     "name": "stdout",
     "output_type": "stream",
     "text": [
      "subspace distance error is: 0.34720038532574826\n"
     ]
    },
    {
     "name": "stderr",
     "output_type": "stream",
     "text": [
      "trials:  38%|███▊      | 38/100 [10:43<17:32, 16.97s/it]"
     ]
    },
    {
     "name": "stdout",
     "output_type": "stream",
     "text": [
      "subspace distance error is: 0.3326237198760778\n"
     ]
    },
    {
     "name": "stderr",
     "output_type": "stream",
     "text": [
      "trials:  39%|███▉      | 39/100 [10:59<17:06, 16.83s/it]"
     ]
    },
    {
     "name": "stdout",
     "output_type": "stream",
     "text": [
      "subspace distance error is: 0.43501456901449786\n"
     ]
    },
    {
     "name": "stderr",
     "output_type": "stream",
     "text": [
      "trials:  40%|████      | 40/100 [11:16<16:58, 16.97s/it]"
     ]
    },
    {
     "name": "stdout",
     "output_type": "stream",
     "text": [
      "subspace distance error is: 0.28534878636485855\n"
     ]
    },
    {
     "name": "stderr",
     "output_type": "stream",
     "text": [
      "trials:  41%|████      | 41/100 [11:33<16:42, 17.00s/it]"
     ]
    },
    {
     "name": "stdout",
     "output_type": "stream",
     "text": [
      "subspace distance error is: 0.3397595940513274\n"
     ]
    },
    {
     "name": "stderr",
     "output_type": "stream",
     "text": [
      "trials:  42%|████▏     | 42/100 [11:48<15:49, 16.38s/it]"
     ]
    },
    {
     "name": "stdout",
     "output_type": "stream",
     "text": [
      "subspace distance error is: 0.38411211744937734\n"
     ]
    },
    {
     "name": "stderr",
     "output_type": "stream",
     "text": [
      "trials:  43%|████▎     | 43/100 [12:05<15:39, 16.49s/it]"
     ]
    },
    {
     "name": "stdout",
     "output_type": "stream",
     "text": [
      "subspace distance error is: 0.42619189125301676\n"
     ]
    },
    {
     "name": "stderr",
     "output_type": "stream",
     "text": [
      "trials:  44%|████▍     | 44/100 [12:21<15:20, 16.44s/it]"
     ]
    },
    {
     "name": "stdout",
     "output_type": "stream",
     "text": [
      "subspace distance error is: 0.40537107174102227\n"
     ]
    },
    {
     "name": "stderr",
     "output_type": "stream",
     "text": [
      "trials:  45%|████▌     | 45/100 [12:38<15:02, 16.40s/it]"
     ]
    },
    {
     "name": "stdout",
     "output_type": "stream",
     "text": [
      "subspace distance error is: 0.3273575723026738\n"
     ]
    },
    {
     "name": "stderr",
     "output_type": "stream",
     "text": [
      "trials:  46%|████▌     | 46/100 [12:55<15:00, 16.68s/it]"
     ]
    },
    {
     "name": "stdout",
     "output_type": "stream",
     "text": [
      "subspace distance error is: 0.3661332037905615\n"
     ]
    },
    {
     "name": "stderr",
     "output_type": "stream",
     "text": [
      "trials:  47%|████▋     | 47/100 [13:10<14:16, 16.16s/it]"
     ]
    },
    {
     "name": "stdout",
     "output_type": "stream",
     "text": [
      "subspace distance error is: 0.3166405259698565\n"
     ]
    },
    {
     "name": "stderr",
     "output_type": "stream",
     "text": [
      "trials:  48%|████▊     | 48/100 [13:27<14:10, 16.36s/it]"
     ]
    },
    {
     "name": "stdout",
     "output_type": "stream",
     "text": [
      "subspace distance error is: 0.3332106479472951\n"
     ]
    },
    {
     "name": "stderr",
     "output_type": "stream",
     "text": [
      "trials:  49%|████▉     | 49/100 [13:44<14:01, 16.50s/it]"
     ]
    },
    {
     "name": "stdout",
     "output_type": "stream",
     "text": [
      "subspace distance error is: 0.39345989917004714\n"
     ]
    },
    {
     "name": "stderr",
     "output_type": "stream",
     "text": [
      "trials:  50%|█████     | 50/100 [13:59<13:27, 16.16s/it]"
     ]
    },
    {
     "name": "stdout",
     "output_type": "stream",
     "text": [
      "subspace distance error is: 0.36877322863578316\n"
     ]
    },
    {
     "name": "stderr",
     "output_type": "stream",
     "text": [
      "trials:  51%|█████     | 51/100 [14:16<13:24, 16.41s/it]"
     ]
    },
    {
     "name": "stdout",
     "output_type": "stream",
     "text": [
      "subspace distance error is: 0.40764219115382616\n"
     ]
    },
    {
     "name": "stderr",
     "output_type": "stream",
     "text": [
      "trials:  52%|█████▏    | 52/100 [14:32<13:05, 16.37s/it]"
     ]
    },
    {
     "name": "stdout",
     "output_type": "stream",
     "text": [
      "subspace distance error is: 0.35980683264464997\n"
     ]
    },
    {
     "name": "stderr",
     "output_type": "stream",
     "text": [
      "trials:  53%|█████▎    | 53/100 [14:49<12:48, 16.36s/it]"
     ]
    },
    {
     "name": "stdout",
     "output_type": "stream",
     "text": [
      "subspace distance error is: 0.3099217435742156\n"
     ]
    },
    {
     "name": "stderr",
     "output_type": "stream",
     "text": [
      "trials:  54%|█████▍    | 54/100 [15:05<12:36, 16.45s/it]"
     ]
    },
    {
     "name": "stdout",
     "output_type": "stream",
     "text": [
      "subspace distance error is: 0.3035175165135449\n"
     ]
    },
    {
     "name": "stderr",
     "output_type": "stream",
     "text": [
      "trials:  55%|█████▌    | 55/100 [15:22<12:25, 16.56s/it]"
     ]
    },
    {
     "name": "stdout",
     "output_type": "stream",
     "text": [
      "subspace distance error is: 0.33198850734499497\n"
     ]
    },
    {
     "name": "stderr",
     "output_type": "stream",
     "text": [
      "trials:  56%|█████▌    | 56/100 [15:38<12:06, 16.51s/it]"
     ]
    },
    {
     "name": "stdout",
     "output_type": "stream",
     "text": [
      "subspace distance error is: 0.3398307849531831\n"
     ]
    },
    {
     "name": "stderr",
     "output_type": "stream",
     "text": [
      "trials:  57%|█████▋    | 57/100 [15:57<12:11, 17.01s/it]"
     ]
    },
    {
     "name": "stdout",
     "output_type": "stream",
     "text": [
      "subspace distance error is: 0.32086174307935766\n"
     ]
    },
    {
     "name": "stderr",
     "output_type": "stream",
     "text": [
      "trials:  58%|█████▊    | 58/100 [16:14<11:55, 17.04s/it]"
     ]
    },
    {
     "name": "stdout",
     "output_type": "stream",
     "text": [
      "subspace distance error is: 0.39258784905564065\n"
     ]
    },
    {
     "name": "stderr",
     "output_type": "stream",
     "text": [
      "trials:  59%|█████▉    | 59/100 [16:30<11:32, 16.89s/it]"
     ]
    },
    {
     "name": "stdout",
     "output_type": "stream",
     "text": [
      "subspace distance error is: 0.388133923350527\n"
     ]
    },
    {
     "name": "stderr",
     "output_type": "stream",
     "text": [
      "trials:  60%|██████    | 60/100 [16:47<11:10, 16.76s/it]"
     ]
    },
    {
     "name": "stdout",
     "output_type": "stream",
     "text": [
      "subspace distance error is: 0.32598217610294145\n"
     ]
    },
    {
     "name": "stderr",
     "output_type": "stream",
     "text": [
      "trials:  61%|██████    | 61/100 [17:03<10:46, 16.59s/it]"
     ]
    },
    {
     "name": "stdout",
     "output_type": "stream",
     "text": [
      "subspace distance error is: 0.38155830449175526\n"
     ]
    },
    {
     "name": "stderr",
     "output_type": "stream",
     "text": [
      "trials:  62%|██████▏   | 62/100 [17:20<10:35, 16.72s/it]"
     ]
    },
    {
     "name": "stdout",
     "output_type": "stream",
     "text": [
      "subspace distance error is: 0.29816764379613164\n"
     ]
    },
    {
     "name": "stderr",
     "output_type": "stream",
     "text": [
      "trials:  63%|██████▎   | 63/100 [17:35<10:02, 16.28s/it]"
     ]
    },
    {
     "name": "stdout",
     "output_type": "stream",
     "text": [
      "subspace distance error is: 0.35282540304039844\n"
     ]
    },
    {
     "name": "stderr",
     "output_type": "stream",
     "text": [
      "trials:  64%|██████▍   | 64/100 [17:54<10:10, 16.97s/it]"
     ]
    },
    {
     "name": "stdout",
     "output_type": "stream",
     "text": [
      "subspace distance error is: 0.3021791674490261\n"
     ]
    },
    {
     "name": "stderr",
     "output_type": "stream",
     "text": [
      "trials:  65%|██████▌   | 65/100 [18:09<09:37, 16.49s/it]"
     ]
    },
    {
     "name": "stdout",
     "output_type": "stream",
     "text": [
      "subspace distance error is: 0.38721343033868943\n"
     ]
    },
    {
     "name": "stderr",
     "output_type": "stream",
     "text": [
      "trials:  66%|██████▌   | 66/100 [18:26<09:20, 16.48s/it]"
     ]
    },
    {
     "name": "stdout",
     "output_type": "stream",
     "text": [
      "subspace distance error is: 0.35312225660819363\n"
     ]
    },
    {
     "name": "stderr",
     "output_type": "stream",
     "text": [
      "trials:  67%|██████▋   | 67/100 [18:42<09:02, 16.43s/it]"
     ]
    },
    {
     "name": "stdout",
     "output_type": "stream",
     "text": [
      "subspace distance error is: 0.3669260488684724\n"
     ]
    },
    {
     "name": "stderr",
     "output_type": "stream",
     "text": [
      "trials:  68%|██████▊   | 68/100 [18:59<08:49, 16.55s/it]"
     ]
    },
    {
     "name": "stdout",
     "output_type": "stream",
     "text": [
      "subspace distance error is: 0.4085362389556572\n"
     ]
    },
    {
     "name": "stderr",
     "output_type": "stream",
     "text": [
      "trials:  69%|██████▉   | 69/100 [19:15<08:33, 16.57s/it]"
     ]
    },
    {
     "name": "stdout",
     "output_type": "stream",
     "text": [
      "subspace distance error is: 0.34199317013211594\n"
     ]
    },
    {
     "name": "stderr",
     "output_type": "stream",
     "text": [
      "trials:  70%|███████   | 70/100 [19:32<08:20, 16.69s/it]"
     ]
    },
    {
     "name": "stdout",
     "output_type": "stream",
     "text": [
      "subspace distance error is: 0.3313281552907209\n"
     ]
    },
    {
     "name": "stderr",
     "output_type": "stream",
     "text": [
      "trials:  71%|███████   | 71/100 [19:49<08:02, 16.62s/it]"
     ]
    },
    {
     "name": "stdout",
     "output_type": "stream",
     "text": [
      "subspace distance error is: 0.3368018500277251\n"
     ]
    },
    {
     "name": "stderr",
     "output_type": "stream",
     "text": [
      "trials:  72%|███████▏  | 72/100 [20:05<07:44, 16.59s/it]"
     ]
    },
    {
     "name": "stdout",
     "output_type": "stream",
     "text": [
      "subspace distance error is: 0.4041352475917308\n"
     ]
    },
    {
     "name": "stderr",
     "output_type": "stream",
     "text": [
      "trials:  73%|███████▎  | 73/100 [20:22<07:26, 16.53s/it]"
     ]
    },
    {
     "name": "stdout",
     "output_type": "stream",
     "text": [
      "subspace distance error is: 0.3702524650674463\n"
     ]
    },
    {
     "name": "stderr",
     "output_type": "stream",
     "text": [
      "trials:  74%|███████▍  | 74/100 [20:38<07:07, 16.43s/it]"
     ]
    },
    {
     "name": "stdout",
     "output_type": "stream",
     "text": [
      "subspace distance error is: 0.3860636627076241\n"
     ]
    },
    {
     "name": "stderr",
     "output_type": "stream",
     "text": [
      "trials:  75%|███████▌  | 75/100 [20:55<06:58, 16.75s/it]"
     ]
    },
    {
     "name": "stdout",
     "output_type": "stream",
     "text": [
      "subspace distance error is: 0.3202305265719061\n"
     ]
    },
    {
     "name": "stderr",
     "output_type": "stream",
     "text": [
      "trials:  76%|███████▌  | 76/100 [21:13<06:45, 16.88s/it]"
     ]
    },
    {
     "name": "stdout",
     "output_type": "stream",
     "text": [
      "subspace distance error is: 0.31961010995117006\n"
     ]
    },
    {
     "name": "stderr",
     "output_type": "stream",
     "text": [
      "trials:  77%|███████▋  | 77/100 [21:29<06:26, 16.81s/it]"
     ]
    },
    {
     "name": "stdout",
     "output_type": "stream",
     "text": [
      "subspace distance error is: 0.33475089028663935\n"
     ]
    },
    {
     "name": "stderr",
     "output_type": "stream",
     "text": [
      "trials:  78%|███████▊  | 78/100 [21:46<06:11, 16.88s/it]"
     ]
    },
    {
     "name": "stdout",
     "output_type": "stream",
     "text": [
      "subspace distance error is: 0.3237416866421393\n"
     ]
    },
    {
     "name": "stderr",
     "output_type": "stream",
     "text": [
      "trials:  79%|███████▉  | 79/100 [22:03<05:53, 16.81s/it]"
     ]
    },
    {
     "name": "stdout",
     "output_type": "stream",
     "text": [
      "subspace distance error is: 0.3484862104818813\n"
     ]
    },
    {
     "name": "stderr",
     "output_type": "stream",
     "text": [
      "trials:  80%|████████  | 80/100 [22:20<05:35, 16.78s/it]"
     ]
    },
    {
     "name": "stdout",
     "output_type": "stream",
     "text": [
      "subspace distance error is: 0.36986708909470895\n"
     ]
    },
    {
     "name": "stderr",
     "output_type": "stream",
     "text": [
      "trials:  81%|████████  | 81/100 [22:37<05:21, 16.93s/it]"
     ]
    },
    {
     "name": "stdout",
     "output_type": "stream",
     "text": [
      "subspace distance error is: 0.3074637897125044\n"
     ]
    },
    {
     "name": "stderr",
     "output_type": "stream",
     "text": [
      "trials:  82%|████████▏ | 82/100 [22:54<05:05, 16.97s/it]"
     ]
    },
    {
     "name": "stdout",
     "output_type": "stream",
     "text": [
      "subspace distance error is: 0.34874778104449233\n"
     ]
    },
    {
     "name": "stderr",
     "output_type": "stream",
     "text": [
      "trials:  83%|████████▎ | 83/100 [23:11<04:50, 17.11s/it]"
     ]
    },
    {
     "name": "stdout",
     "output_type": "stream",
     "text": [
      "subspace distance error is: 0.28604452187871526\n"
     ]
    },
    {
     "name": "stderr",
     "output_type": "stream",
     "text": [
      "trials:  84%|████████▍ | 84/100 [23:29<04:34, 17.14s/it]"
     ]
    },
    {
     "name": "stdout",
     "output_type": "stream",
     "text": [
      "subspace distance error is: 0.339874131480356\n"
     ]
    },
    {
     "name": "stderr",
     "output_type": "stream",
     "text": [
      "trials:  85%|████████▌ | 85/100 [23:46<04:17, 17.14s/it]"
     ]
    },
    {
     "name": "stdout",
     "output_type": "stream",
     "text": [
      "subspace distance error is: 0.3544125248920521\n"
     ]
    },
    {
     "name": "stderr",
     "output_type": "stream",
     "text": [
      "trials:  86%|████████▌ | 86/100 [24:03<03:59, 17.13s/it]"
     ]
    },
    {
     "name": "stdout",
     "output_type": "stream",
     "text": [
      "subspace distance error is: 0.3903445174606033\n"
     ]
    },
    {
     "name": "stderr",
     "output_type": "stream",
     "text": [
      "trials:  87%|████████▋ | 87/100 [24:20<03:41, 17.05s/it]"
     ]
    },
    {
     "name": "stdout",
     "output_type": "stream",
     "text": [
      "subspace distance error is: 0.3484092450874121\n"
     ]
    },
    {
     "name": "stderr",
     "output_type": "stream",
     "text": [
      "trials:  88%|████████▊ | 88/100 [24:37<03:26, 17.23s/it]"
     ]
    },
    {
     "name": "stdout",
     "output_type": "stream",
     "text": [
      "subspace distance error is: 0.30983946670845863\n"
     ]
    },
    {
     "name": "stderr",
     "output_type": "stream",
     "text": [
      "trials:  89%|████████▉ | 89/100 [24:55<03:10, 17.35s/it]"
     ]
    },
    {
     "name": "stdout",
     "output_type": "stream",
     "text": [
      "subspace distance error is: 0.34903510717414177\n"
     ]
    },
    {
     "name": "stderr",
     "output_type": "stream",
     "text": [
      "trials:  90%|█████████ | 90/100 [25:12<02:51, 17.14s/it]"
     ]
    },
    {
     "name": "stdout",
     "output_type": "stream",
     "text": [
      "subspace distance error is: 0.45813790176578556\n"
     ]
    },
    {
     "name": "stderr",
     "output_type": "stream",
     "text": [
      "trials:  91%|█████████ | 91/100 [25:28<02:32, 16.93s/it]"
     ]
    },
    {
     "name": "stdout",
     "output_type": "stream",
     "text": [
      "subspace distance error is: 0.34380984159887684\n"
     ]
    },
    {
     "name": "stderr",
     "output_type": "stream",
     "text": [
      "trials:  92%|█████████▏| 92/100 [25:45<02:14, 16.86s/it]"
     ]
    },
    {
     "name": "stdout",
     "output_type": "stream",
     "text": [
      "subspace distance error is: 0.3739877050839887\n"
     ]
    },
    {
     "name": "stderr",
     "output_type": "stream",
     "text": [
      "trials:  93%|█████████▎| 93/100 [26:01<01:57, 16.74s/it]"
     ]
    },
    {
     "name": "stdout",
     "output_type": "stream",
     "text": [
      "subspace distance error is: 0.3678398207223479\n"
     ]
    },
    {
     "name": "stderr",
     "output_type": "stream",
     "text": [
      "trials:  94%|█████████▍| 94/100 [26:18<01:40, 16.67s/it]"
     ]
    },
    {
     "name": "stdout",
     "output_type": "stream",
     "text": [
      "subspace distance error is: 0.3236339985754489\n"
     ]
    },
    {
     "name": "stderr",
     "output_type": "stream",
     "text": [
      "trials:  95%|█████████▌| 95/100 [26:34<01:22, 16.53s/it]"
     ]
    },
    {
     "name": "stdout",
     "output_type": "stream",
     "text": [
      "subspace distance error is: 0.38366906025147174\n"
     ]
    },
    {
     "name": "stderr",
     "output_type": "stream",
     "text": [
      "trials:  96%|█████████▌| 96/100 [26:51<01:06, 16.62s/it]"
     ]
    },
    {
     "name": "stdout",
     "output_type": "stream",
     "text": [
      "subspace distance error is: 0.4747935567254566\n"
     ]
    },
    {
     "name": "stderr",
     "output_type": "stream",
     "text": [
      "trials:  97%|█████████▋| 97/100 [27:08<00:50, 16.84s/it]"
     ]
    },
    {
     "name": "stdout",
     "output_type": "stream",
     "text": [
      "subspace distance error is: 0.33548730158472084\n"
     ]
    },
    {
     "name": "stderr",
     "output_type": "stream",
     "text": [
      "trials:  98%|█████████▊| 98/100 [27:25<00:33, 16.80s/it]"
     ]
    },
    {
     "name": "stdout",
     "output_type": "stream",
     "text": [
      "subspace distance error is: 0.4430057549583195\n"
     ]
    },
    {
     "name": "stderr",
     "output_type": "stream",
     "text": [
      "trials:  99%|█████████▉| 99/100 [27:42<00:16, 16.95s/it]"
     ]
    },
    {
     "name": "stdout",
     "output_type": "stream",
     "text": [
      "subspace distance error is: 0.29962041080463236\n"
     ]
    },
    {
     "name": "stderr",
     "output_type": "stream",
     "text": [
      "trials: 100%|██████████| 100/100 [28:00<00:00, 16.80s/it]"
     ]
    },
    {
     "name": "stdout",
     "output_type": "stream",
     "text": [
      "Finished! The total time we use is:  1680.0655567646027\n"
     ]
    },
    {
     "name": "stderr",
     "output_type": "stream",
     "text": [
      "\n"
     ]
    }
   ],
   "source": [
    "# MOM\n",
    "start = time.time()\n",
    "\n",
    "for T in tqdm(range(trials), desc = 'trials'):\n",
    "    \n",
    "#     print('Trial:', T)\n",
    "    \n",
    "    action_set = A[T]\n",
    "    B_star = B_star_list[T]\n",
    "    Theta_star = Theta[T]\n",
    "    noise_T = noise_list[T]\n",
    "\n",
    "    L = np.max(np.linalg.norm(action_set[:, -1, :, :], axis=-1))\n",
    "    S = np.linalg.norm(Theta_star[:, -1])\n",
    "    \n",
    "    B_hat = np.zeros((d, k))\n",
    "    W_hat = np.zeros((k, M))\n",
    "    Theta_hat = B_hat.dot(W_hat)\n",
    "    w_hat = np.zeros(k)\n",
    "    theta_hat = B_hat.dot(w_hat)\n",
    "    \n",
    "    cumulative_regret = 0\n",
    "    cummulative_regret_list = []\n",
    "\n",
    "    M_hat = np.zeros((d, d))\n",
    "    V = ld * np.eye(d)\n",
    "    U = np.zeros((k, 1))\n",
    "    \n",
    "    for t in range(epoch_iter):\n",
    "        \n",
    "        for i in range(M):\n",
    "            \n",
    "            action = np.argmax(np.dot(action_set[t, i], Theta_hat[:, i]))\n",
    "            reward = action_set[t, i, action].dot(Theta_star[:, i])\n",
    "\n",
    "            M_hat += (reward + noise_T[t, i]) ** 2 * np.dot(action_set[t, i, action].reshape(-1, 1), action_set[t, i, action].reshape(1, -1))\n",
    "\n",
    "    M_hat /= epoch_iter * M\n",
    "    B_hat = np.linalg.svd(M_hat, full_matrices=False)[0][:, :k]\n",
    "    \n",
    "    delta_0 = np.linalg.norm((np.eye(d)-B_star.dot(B_star.T)).dot(B_hat), ord='fro')\n",
    "    print('subspace distance error is:', delta_0)\n",
    "    \n",
    "    for t in range(epoch_iter, iterations):\n",
    "        \n",
    "        beta = get_beta_ohter_estimator(sigma, k, t - epoch_iter + 1, L, ld, delta, S, delta_0)\n",
    "        decision, theta_tilde = get_decision(action_set[t, -1], theta_hat, V, beta, d)\n",
    "        \n",
    "        reward = action_set[t, -1, decision].dot(Theta_star[:, -1])\n",
    "        cumulative_regret += np.max(np.dot(action_set[t, -1], Theta_star[:, -1])) - reward\n",
    "        \n",
    "        V += action_set[t, -1, decision].reshape(-1, 1).dot(action_set[t, -1, decision].reshape(1, -1))\n",
    "        U += B_hat.T.dot(action_set[t, -1, decision].reshape(-1, 1)) * (reward + noise_T[t, -1])\n",
    "        w_hat = np.linalg.inv(B_hat.T.dot(V).dot(B_hat)).dot(U).reshape(-1)\n",
    "        theta_hat = B_hat.dot(w_hat)\n",
    "            \n",
    "        cummulative_regret_list.append(cumulative_regret)\n",
    "        # print('parameter error is {} and cumulative regret is {}'.format(np.linalg.norm(theta_hat-Theta_star[:, -1]), cumulative_regret))\n",
    "            \n",
    "    CR_Trials_MOM.append((T, cummulative_regret_list))\n",
    "    \n",
    "end = time.time()\n",
    "print('Finished! The total time we use is: ', end - start)"
   ]
  },
  {
   "cell_type": "code",
   "execution_count": 13,
   "id": "6203a359-d222-40c9-9e2f-5298978b3604",
   "metadata": {},
   "outputs": [],
   "source": [
    "def prepare_plot_data(CR_Trials, iterations, trials):\n",
    "\n",
    "    x_value = np.array([i for i in range(iterations)])\n",
    "    y_value = np.zeros(iterations)\n",
    "\n",
    "    for i in range(iterations):\n",
    "\n",
    "        for T in range(trials):\n",
    "\n",
    "            y_value[i] += CR_Trials[T][1][i]\n",
    "\n",
    "    y_value = y_value / trials\n",
    "\n",
    "    return x_value, y_value"
   ]
  },
  {
   "cell_type": "code",
   "execution_count": 14,
   "id": "aeffe119-3707-47a8-87e4-00bb87c8e831",
   "metadata": {},
   "outputs": [],
   "source": [
    "x_proposed, y_proposed = prepare_plot_data(CR_Trials, iterations - epoch_iter, trials)\n",
    "x_Abbasi, y_Abbasi = prepare_plot_data(CR_Trials_Abbasi, iterations - epoch_iter, trials)\n",
    "x_MOM, y_MOM = prepare_plot_data(CR_Trials_MOM, iterations - epoch_iter, trials)"
   ]
  },
  {
   "cell_type": "code",
   "execution_count": 15,
   "id": "9bbf6d86-635c-4947-9bee-db6976536999",
   "metadata": {},
   "outputs": [
    {
     "data": {
      "image/png": "[encoded data removed]",
      "text/plain": [
       "<Figure size 3600x2400 with 1 Axes>"
      ]
     },
     "metadata": {},
     "output_type": "display_data"
    }
   ],
   "source": [
    "import matplotlib.lines as mlines\n",
    "\n",
    "plt.figure(figsize=(12, 8), dpi = 300)\n",
    "\n",
    "plt.rcParams['pdf.fonttype'] = 42\n",
    "plt.rcParams['ps.fonttype'] = 42\n",
    "\n",
    "colors = (['black', 'blue', 'darkgreen', 'purple', 'darkred', 'grey'])\n",
    "markers = ['*', 's', 'o', 'X', '^', 'P']\n",
    "\n",
    "plt.rcParams['xtick.labelsize'] = 25\n",
    "plt.rcParams['ytick.labelsize'] = 25\n",
    "plt.rc('legend', fontsize = 25)\n",
    "\n",
    "plt.plot(x_proposed[::every_point], y_proposed[::every_point], color = colors[0], linewidth = 3, label = 'Proposed Algorithm')\n",
    "plt.scatter(x_proposed[::every_point], y_proposed[::every_point], marker = markers[0], color = colors[0], s = 300, label = 'Proposed Algorithm')\n",
    "plt.plot(x_Abbasi[::every_point], y_Abbasi[::every_point], color = colors[1], linewidth = 3, label = 'Abbasi et al., 2011')\n",
    "plt.scatter(x_Abbasi[::every_point], y_Abbasi[::every_point], marker = markers[1], color = colors[1], s = 300, label = 'Abbasi et al., 2011')\n",
    "plt.plot(x_MOM[::every_point], y_MOM[::every_point], color = colors[2], linewidth = 3, label = 'MOM')\n",
    "plt.scatter(x_MOM[::every_point], y_MOM[::every_point], marker = markers[2], color = colors[2], s = 300, label = 'MOM')\n",
    "\n",
    "legend_elements = [mlines.Line2D([0], [0], color = colors[0], lw = 5, label = 'Proposed Algorithm', marker = markers[0], markersize = 15),\n",
    "                   mlines.Line2D([0], [0], color = colors[1], lw = 5, label = 'Abbasi et al., 2011', marker = markers[1], markersize = 15),\n",
    "                   mlines.Line2D([0], [0], color = colors[2], lw = 5, label = 'MOM', marker = markers[2], markersize = 15)]\n",
    "\n",
    "plt.grid(True)\n",
    "plt.xlabel('Round, N', fontsize = 25)\n",
    "plt.ylabel(r'Cumulative Regret, $R_{T+1,n}$', fontsize = 25)\n",
    "plt.legend(handles=legend_elements)\n",
    "plt.title('Synthetic data: d=100, T=200, r=2', fontsize = 20)\n",
    "plt.savefig('meta_paper.pdf', dpi = 600, bbox_inches = 'tight')\n",
    "plt.show()\n",
    "plt.close()"
   ]
  },
  {
   "cell_type": "code",
   "execution_count": 16,
   "id": "184f0cb7-4b6c-458c-aac2-140300b06b5a",
   "metadata": {},
   "outputs": [],
   "source": [
    "np.save('CR_Trials_Proposed.npy', np.array(CR_Trials, dtype=object))\n",
    "np.save('CR_Trials_Abbasi.npy', np.array(CR_Trials_Abbasi, dtype=object))\n",
    "np.save('CR_Trials_MOM.npy', np.array(CR_Trials_MOM, dtype=object))"
   ]
  },
  {
   "cell_type": "code",
   "execution_count": null,
   "id": "2c989b61-38d1-4e8d-912f-29895ed93363",
   "metadata": {},
   "outputs": [],
   "source": []
  }
 ],
 "metadata": {
  "kernelspec": {
   "display_name": "Python 3 (ipykernel)",
   "language": "python",
   "name": "python3"
  },
  "language_info": {
   "codemirror_mode": {
    "name": "ipython",
    "version": 3
   },
   "file_extension": ".py",
   "mimetype": "text/x-python",
   "name": "python",
   "nbconvert_exporter": "python",
   "pygments_lexer": "ipython3",
   "version": "3.8.18"
  }
 },
 "nbformat": 4,
 "nbformat_minor": 5
}
