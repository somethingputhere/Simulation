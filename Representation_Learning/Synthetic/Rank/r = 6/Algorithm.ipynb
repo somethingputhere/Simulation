{
 "cells": [
  {
   "cell_type": "code",
   "execution_count": 1,
   "id": "d9ee8b46",
   "metadata": {},
   "outputs": [],
   "source": [
    "import os\n",
    "import time\n",
    "import warnings\n",
    "import numpy as np\n",
    "import pandas as pd\n",
    "from tqdm import tqdm\n",
    "from scipy.linalg import orth\n",
    "from scipy.optimize import minimize\n",
    "from matplotlib import pyplot as plt\n",
    "from matplotlib.ticker import LogFormatter\n",
    "from scipy.optimize import minimize, linprog\n",
    "from scipy.optimize import differential_evolution, NonlinearConstraint\n",
    "np.random.seed(29)\n",
    "warnings.filterwarnings(\"ignore\")"
   ]
  },
  {
   "cell_type": "code",
   "execution_count": 2,
   "id": "a9c99019",
   "metadata": {},
   "outputs": [],
   "source": [
    "def generate_action_set(trials, iterations, M, num_action, d, k):\n",
    "    \n",
    "    Action_list = np.zeros((trials, iterations, M, num_action, d))\n",
    "    Theta_list = np.zeros((trials, d, M))\n",
    "\n",
    "    for T in range(trials):\n",
    "\n",
    "        for m in range(M):\n",
    "\n",
    "            Action_list[T, :, m, :, :] = np.random.randn(iterations, num_action, d)\n",
    "\n",
    "        B_star = orth(np.random.rand(d, k))\n",
    "        W_star = np.random.rand(k, M)\n",
    "        Theta_star = np.dot(B_star, W_star)\n",
    "\n",
    "        Theta_list[T] = Theta_star\n",
    "        \n",
    "    return Action_list, Theta_list"
   ]
  },
  {
   "cell_type": "code",
   "execution_count": 3,
   "id": "a64fbb7c",
   "metadata": {},
   "outputs": [],
   "source": [
    "def init_altgdmin(X, t, Y, C, M, d, k, Theta_star):\n",
    "    \n",
    "    alpha = C * np.linalg.norm(Y, 'fro') / np.sqrt(t * M)\n",
    "    Y_trunc = np.where(np.abs(Y) > alpha, 0, Y)\n",
    "    \n",
    "    Theta_0 = np.zeros((d, M))\n",
    "    \n",
    "    for i in range(M):\n",
    "        \n",
    "        Theta_0[:, i] = np.sum(X[i].dot(np.diag(Y_trunc[i])), axis=1) / t\n",
    "    \n",
    "    U_0, Sigma_0, V_0 = np.linalg.svd(Theta_0, full_matrices = False)\n",
    "    B_hat = U_0[:, :k]\n",
    "    S_k = np.zeros((k, k))\n",
    "    np.fill_diagonal(S_k, Sigma_0[:k])\n",
    "    error = np.linalg.norm(B_hat.dot(S_k).dot(V_0[:k, :]) - Theta_star, 'fro') / np.linalg.norm(Theta_star, 'fro')\n",
    "    \n",
    "    return B_hat, error"
   ]
  },
  {
   "cell_type": "code",
   "execution_count": 4,
   "id": "ca6d35a2",
   "metadata": {},
   "outputs": [],
   "source": [
    "def AltGD_Min(X, Y, M, k, B_hat, Theta_star):\n",
    "    \n",
    "    W_hat = np.zeros((k, M))\n",
    "    \n",
    "    for i in range(M):\n",
    "\n",
    "        W_hat[:, i] = np.linalg.lstsq(np.dot(X[i].T, B_hat), Y[i], rcond = None)[0]\n",
    "\n",
    "    Theta_hat = np.dot(B_hat, W_hat)\n",
    "    \n",
    "    error = np.linalg.norm(Theta_star - Theta_hat, 'fro') / np.linalg.norm(Theta_star, 'fro')\n",
    "    \n",
    "    return W_hat, error"
   ]
  },
  {
   "cell_type": "code",
   "execution_count": 5,
   "id": "86f7b952",
   "metadata": {},
   "outputs": [],
   "source": [
    "CR_Trials_ICML = []\n",
    "d = 100\n",
    "M = 100\n",
    "k = 6\n",
    "C = 6\n",
    "trials = 100\n",
    "sigma = 1e-3\n",
    "delta = 1e-3\n",
    "num_action = 10\n",
    "epoch_iter = 45\n",
    "iterations = 200\n",
    "every_point = 25\n",
    "A, Theta = generate_action_set(trials, iterations, M, num_action, d, k)"
   ]
  },
  {
   "cell_type": "code",
   "execution_count": 6,
   "id": "29719c41",
   "metadata": {},
   "outputs": [],
   "source": [
    "# generate the noise of reward for each iteration\n",
    "noise_list = np.random.normal(0, sigma ** 2, size = (trials, iterations, M))"
   ]
  },
  {
   "cell_type": "code",
   "execution_count": 7,
   "id": "51d82280",
   "metadata": {},
   "outputs": [
    {
     "name": "stderr",
     "output_type": "stream",
     "text": [
      "Trials: 100%|██████████| 100/100 [00:22<00:00,  4.49it/s]"
     ]
    },
    {
     "name": "stdout",
     "output_type": "stream",
     "text": [
      "Finished! The total time we use is:  22.276153087615967\n"
     ]
    },
    {
     "name": "stderr",
     "output_type": "stream",
     "text": [
      "\n"
     ]
    }
   ],
   "source": [
    "# ICML\n",
    "start = time.time()\n",
    "\n",
    "for T in tqdm(range(trials), desc = 'Trials'):\n",
    "    \n",
    "#     print('Trial:', T)\n",
    "    \n",
    "    action_set = A[T]\n",
    "    Theta_star = Theta[T]\n",
    "    noise_T = noise_list[T]\n",
    "    \n",
    "    B_hat = np.zeros((d, k))\n",
    "    W_hat = np.zeros((k, M))\n",
    "    Theta_hat = B_hat.dot(W_hat)\n",
    "    \n",
    "    cumulative_regret = 0\n",
    "    cummulative_regret_list = [0]\n",
    "    \n",
    "    X = [np.empty((d, 0)) for _ in range(M)]\n",
    "    Y = [np.empty(0) for _ in range(M)]\n",
    "    \n",
    "    for t in range(epoch_iter):\n",
    "        \n",
    "        for i in range(M):\n",
    "            \n",
    "            action = np.argmax(np.dot(action_set[t, i], Theta_hat[:, i]))\n",
    "            reward = action_set[t, i, action].dot(Theta_star[:, i])\n",
    "            cumulative_regret += np.max(np.dot(action_set[t, i], Theta_star[:, i])) - reward\n",
    "            \n",
    "            X[i] = np.hstack((X[i], action_set[t, i, action].reshape(-1, 1)))\n",
    "            Y[i] = np.append(Y[i], reward + noise_T[t, i])\n",
    "            \n",
    "        cummulative_regret_list.append(cumulative_regret)\n",
    "            \n",
    "    B_hat, error = init_altgdmin(X, epoch_iter, Y, C, M, d, k, Theta_star)\n",
    "    W_hat, error = AltGD_Min(X, Y, M, k, B_hat, Theta[T])\n",
    "    Theta_hat = B_hat.dot(W_hat)\n",
    "    \n",
    "    for t in range(epoch_iter, iterations):\n",
    "        \n",
    "        for i in range(M):\n",
    "            \n",
    "            action = np.argmax(np.dot(action_set[t, i], Theta_hat[:, i]))\n",
    "            reward = action_set[t, i, action].dot(Theta_star[:, i])\n",
    "            cumulative_regret += np.max(np.dot(action_set[t, i], Theta_star[:, i])) - reward\n",
    "            \n",
    "        cummulative_regret_list.append(cumulative_regret)\n",
    "        \n",
    "#         print('t: {} regret: {} error: {}:'.format(num, regret, error))\n",
    "\n",
    "    CR_Trials_ICML.append((T, cummulative_regret_list))\n",
    "    \n",
    "end = time.time()\n",
    "print('Finished! The total time we use is: ', end - start)"
   ]
  },
  {
   "cell_type": "code",
   "execution_count": 8,
   "id": "551d67fa",
   "metadata": {},
   "outputs": [],
   "source": [
    "def prepare_plot_data(CR_Trials, iterations, trials):\n",
    "    \n",
    "    x_value = np.array([i for i in range(iterations + 1)])\n",
    "    y_value = np.zeros(iterations + 1)\n",
    "    \n",
    "    for i in range(iterations + 1):\n",
    "        \n",
    "        for T in range(trials):\n",
    "            \n",
    "            y_value[i] += CR_Trials[T][1][i]\n",
    "            \n",
    "    y_value = y_value / trials\n",
    "            \n",
    "    return x_value, y_value"
   ]
  },
  {
   "cell_type": "code",
   "execution_count": 9,
   "id": "73550dcb",
   "metadata": {},
   "outputs": [],
   "source": [
    "x_proposed, y_proposed = prepare_plot_data(CR_Trials_ICML, iterations, trials)"
   ]
  },
  {
   "cell_type": "code",
   "execution_count": 10,
   "id": "2e0185cb",
   "metadata": {},
   "outputs": [
    {
     "data": {
      "text/plain": [
       "[<matplotlib.lines.Line2D at 0x1fda63dcc40>]"
      ]
     },
     "execution_count": 10,
     "metadata": {},
     "output_type": "execute_result"
    },
    {
     "data": {
      "image/png": "[encoded data removed]",
      "text/plain": [
       "<Figure size 432x288 with 1 Axes>"
      ]
     },
     "metadata": {
      "needs_background": "light"
     },
     "output_type": "display_data"
    }
   ],
   "source": [
    "plt.plot(x_proposed, y_proposed, color = 'r')"
   ]
  },
  {
   "cell_type": "code",
   "execution_count": 11,
   "id": "f64d9718",
   "metadata": {},
   "outputs": [],
   "source": [
    "np.save('CR_Trials_ICML.npy', np.array(CR_Trials_ICML, dtype=object))"
   ]
  },
  {
   "cell_type": "code",
   "execution_count": null,
   "id": "32767e2a",
   "metadata": {},
   "outputs": [],
   "source": []
  }
 ],
 "metadata": {
  "kernelspec": {
   "display_name": "Python 3 (ipykernel)",
   "language": "python",
   "name": "python3"
  },
  "language_info": {
   "codemirror_mode": {
    "name": "ipython",
    "version": 3
   },
   "file_extension": ".py",
   "mimetype": "text/x-python",
   "name": "python",
   "nbconvert_exporter": "python",
   "pygments_lexer": "ipython3",
   "version": "3.9.12"
  }
 },
 "nbformat": 4,
 "nbformat_minor": 5
}
