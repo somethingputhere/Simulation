{
 "cells": [
  {
   "cell_type": "code",
   "execution_count": 1,
   "id": "d9ee8b46",
   "metadata": {},
   "outputs": [],
   "source": [
    "import os\n",
    "import time\n",
    "import warnings\n",
    "import itertools\n",
    "import numpy as np\n",
    "import cvxpy as cp\n",
    "import pandas as pd\n",
    "from tqdm import tqdm\n",
    "from scipy.linalg import orth\n",
    "from sklearn.cluster import KMeans\n",
    "from scipy.optimize import minimize\n",
    "from matplotlib import pyplot as plt\n",
    "from sklearn.decomposition import NMF\n",
    "from matplotlib.ticker import LogFormatter\n",
    "# from surprise import Dataset, Reader, SVD, accuracy\n",
    "# from surprise.model_selection import train_test_split\n",
    "np.random.seed(29)\n",
    "warnings.filterwarnings(\"ignore\")"
   ]
  },
  {
   "cell_type": "code",
   "execution_count": null,
   "id": "896ee2d3",
   "metadata": {},
   "outputs": [],
   "source": [
    "# def generate_action_set(trials, M, d, k):\n",
    "    \n",
    "#     complete_rating = pd.read_csv('complete_ratings').values[:, 1:] / 5\n",
    "\n",
    "#     model = NMF(n_components = int(np.sqrt(d)), init = 'nndsvda', max_iter = 10000)\n",
    "#     W = model.fit_transform(complete_rating)\n",
    "#     H = model.components_\n",
    "\n",
    "#     theta_true = np.eye(int(np.sqrt(d))).ravel()\n",
    "#     Theta = np.tile(theta_true, (M, 1)).T[np.newaxis, :]\n",
    "\n",
    "#     kmeans = KMeans(n_clusters = M, random_state = 0).fit(H.T)\n",
    "#     labels = kmeans.labels_\n",
    "\n",
    "#     Action_list = np.empty((1, W.shape[0], M), dtype = object)\n",
    "\n",
    "#     for t in range(W.shape[0]):\n",
    "\n",
    "#         for i in range(M):\n",
    "\n",
    "#             size = H[:, labels == i].shape[1]\n",
    "#             Action_list[0, t, i] = np.empty((size, d), dtype = object)\n",
    "\n",
    "#             for ac in range(size):\n",
    "\n",
    "#                 temp = np.outer(W[t], H[:, labels == i][:, ac])\n",
    "#                 Action_list[0, t, i][ac] = temp.ravel()\n",
    "                \n",
    "#     return Action_list, Theta"
   ]
  },
  {
   "cell_type": "code",
   "execution_count": 2,
   "id": "10a04739",
   "metadata": {},
   "outputs": [],
   "source": [
    "def generate_action_set(d):\n",
    "    \n",
    "    complete_rating = pd.read_csv('complete_ratings').values[:, 1:] / 5\n",
    "    \n",
    "    model = NMF(n_components = d, init = 'nndsvda', max_iter = 10000)\n",
    "    W = model.fit_transform(complete_rating)\n",
    "    H = model.components_\n",
    "    W = W[:15]\n",
    "    # H = H[:, :50]\n",
    "    \n",
    "    A = np.zeros((W.shape[0], H.shape[1], d))\n",
    "    Theta = np.zeros((d, W.shape[0]))\n",
    "    \n",
    "    for i in range(W.shape[0]):\n",
    "    \n",
    "        Theta[:, i] = np.ones(d)\n",
    "        \n",
    "        for j in range(H.shape[1]):\n",
    "    \n",
    "            A[i, j] = W[i] * H[:, j]\n",
    "\n",
    "    L_list = []\n",
    "\n",
    "    for i in range(W.shape[0]):\n",
    "\n",
    "        norm_list = np.linalg.norm(A[-1], axis=1)\n",
    "        L_list.append(norm_list)\n",
    "\n",
    "    L = np.max(L_list)\n",
    "    S = np.linalg.norm(Theta[:, -1])\n",
    "                \n",
    "    return A, Theta, L, S"
   ]
  },
  {
   "cell_type": "code",
   "execution_count": 3,
   "id": "a64fbb7c",
   "metadata": {},
   "outputs": [],
   "source": [
    "def init_altgdmin(X, t, Y, C, M, d, k):\n",
    "    \n",
    "    alpha = C * np.linalg.norm(Y, 'fro') / np.sqrt(t * M)\n",
    "    Y_trunc = np.where(np.abs(Y) > alpha, 0, Y)\n",
    "    \n",
    "    Theta_0 = np.zeros((d, M))\n",
    "    \n",
    "    for i in range(M):\n",
    "        \n",
    "        Theta_0[:, i] = np.sum(X[i].dot(np.diag(Y_trunc[i])), axis=1) / t\n",
    "    \n",
    "    U_0, Sigma_0, V_0 = np.linalg.svd(Theta_0, full_matrices = False)\n",
    "    B_hat = U_0[:, :k]\n",
    "    S_k = np.zeros((k, k))\n",
    "    np.fill_diagonal(S_k, Sigma_0[:k])\n",
    "    \n",
    "    return B_hat"
   ]
  },
  {
   "cell_type": "code",
   "execution_count": 4,
   "id": "ca6d35a2",
   "metadata": {},
   "outputs": [],
   "source": [
    "def AltGD_Min(X, Y, M, k, B_hat):\n",
    "    \n",
    "    W_hat = np.zeros((k, M))\n",
    "    \n",
    "    for i in range(M):\n",
    "\n",
    "        W_hat[:, i] = np.linalg.lstsq(np.dot(X[i].T, B_hat), Y[i], rcond = None)[0]\n",
    "    \n",
    "    return W_hat"
   ]
  },
  {
   "cell_type": "code",
   "execution_count": 5,
   "id": "0a02c712-4ea1-4849-b4a2-2c8e58625409",
   "metadata": {},
   "outputs": [],
   "source": [
    "def cella_estimator(M, d, iterations, delta, sigma, Y, X, t):\n",
    "\n",
    "    C = 1\n",
    "    temp = np.sqrt((M + d + np.log(4 * iterations / delta)) * (np.log(8 * iterations * (d + M) / delta) ** 3))\n",
    "    lambda_n = sigma * np.sqrt((d + M) * np.log(2 * iterations * (d + M) / delta) * C * temp / t)\n",
    "\n",
    "    Theta_hat = cp.Variable((d, M))\n",
    "\n",
    "    loss = 0\n",
    "\n",
    "    for i in range(M):\n",
    "\n",
    "        Xt = X[i].T\n",
    "        yt = cp.Constant(Y[i])\n",
    "        pred = Xt @ Theta_hat[:, i]\n",
    "        loss += cp.sum_squares(pred - yt)\n",
    "\n",
    "    regularization = cp.norm(Theta_hat, 'nuc')\n",
    "    objective = cp.Minimize(1 / t * loss + lambda_n * regularization)\n",
    "    prob = cp.Problem(objective)\n",
    "    prob.solve(solver=cp.SCS)\n",
    "\n",
    "    return Theta_hat.value"
   ]
  },
  {
   "cell_type": "code",
   "execution_count": 6,
   "id": "86f7b952",
   "metadata": {},
   "outputs": [],
   "source": [
    "CR_Trials_ICML = []\n",
    "CR_Trials_E2TC = []\n",
    "CR_Trials_Naive = []\n",
    "CR_Trials_Cella = []\n",
    "d = 100\n",
    "k = 1\n",
    "C = 3\n",
    "R = 1\n",
    "ld = 1\n",
    "ld_0 = 1\n",
    "trials = 1\n",
    "sigma = 1e-1\n",
    "delta = 1e-3\n",
    "epoch_iter = 20\n",
    "iterations = 100\n",
    "every_point = 25\n",
    "A, Theta, L, S = generate_action_set(d)\n",
    "M = A.shape[0]\n",
    "num_action = A.shape[1]"
   ]
  },
  {
   "cell_type": "code",
   "execution_count": 7,
   "id": "29719c41",
   "metadata": {},
   "outputs": [],
   "source": [
    "# generate the noise of reward for each iteration\n",
    "noise_list = np.random.normal(0, sigma, size = (iterations, M))"
   ]
  },
  {
   "cell_type": "code",
   "execution_count": 8,
   "id": "0093efb3",
   "metadata": {},
   "outputs": [],
   "source": [
    "action_exploration_list = np.random.choice(num_action, (epoch_iter, M))"
   ]
  },
  {
   "cell_type": "code",
   "execution_count": 9,
   "id": "51d82280",
   "metadata": {},
   "outputs": [
    {
     "name": "stderr",
     "output_type": "stream",
     "text": [
      "exploration iterations: 100%|██████████| 20/20 [00:00<00:00, 835.49it/s]\n",
      "commit iterations: 100%|██████████| 80/80 [00:00<00:00, 978.17it/s]"
     ]
    },
    {
     "name": "stdout",
     "output_type": "stream",
     "text": [
      "Finished! The total time we use is:  0.11768579483032227\n"
     ]
    },
    {
     "name": "stderr",
     "output_type": "stream",
     "text": [
      "\n"
     ]
    }
   ],
   "source": [
    "# ICML\n",
    "start = time.time()\n",
    "\n",
    "action_set = A\n",
    "Theta_star = Theta\n",
    "noise_T = noise_list\n",
    "\n",
    "B_hat = np.zeros((d, k))\n",
    "W_hat = np.zeros((k, M))\n",
    "Theta_hat = B_hat.dot(W_hat)\n",
    "\n",
    "cumulative_regret = 0\n",
    "cummulative_regret_list = [0]\n",
    "\n",
    "X = [np.empty((d, epoch_iter)) for _ in range(M)]\n",
    "Y = [np.empty(epoch_iter) for _ in range(M)]\n",
    "    \n",
    "for t in tqdm(range(epoch_iter), desc = 'exploration iterations'):\n",
    "\n",
    "    for i in range(M):\n",
    "\n",
    "        action = action_exploration_list[t, i]\n",
    "        reward = action_set[i, action].dot(Theta_star[:, i])\n",
    "        cumulative_regret += np.max(action_set[i].dot(Theta_star[:, i])) - reward\n",
    "\n",
    "        X[i][:, t] = action_set[i, action].reshape(-1)\n",
    "        Y[i][t] = reward + noise_T[t, i]\n",
    "\n",
    "    cummulative_regret_list.append(cumulative_regret)\n",
    "\n",
    "B_hat = init_altgdmin(X, epoch_iter, Y, C, M, d, k)\n",
    "W_hat = AltGD_Min(X, Y, M, k, B_hat)\n",
    "Theta_hat = B_hat.dot(W_hat)\n",
    "\n",
    "for t in tqdm(range(epoch_iter, iterations), desc = 'commit iterations'):\n",
    "\n",
    "    for i in range(M):\n",
    "        \n",
    "        action = np.argmax(np.dot(action_set[i], Theta_hat[:, i]))\n",
    "        reward = action_set[i, action].dot(Theta_star[:, i])\n",
    "        cumulative_regret += np.max(action_set[i].dot(Theta_star[:, i])) - reward\n",
    "\n",
    "    cummulative_regret_list.append(cumulative_regret)\n",
    "\n",
    "CR_Trials_ICML = cummulative_regret_list\n",
    "    \n",
    "end = time.time()\n",
    "print('Finished! The total time we use is: ', end - start)"
   ]
  },
  {
   "cell_type": "code",
   "execution_count": null,
   "id": "2c2555e8",
   "metadata": {},
   "outputs": [],
   "source": [
    "# INFINITE-ACTION SETTING\n",
    "start = time.time()\n",
    "\n",
    "action_set = A\n",
    "Theta_star = Theta\n",
    "noise_T = noise_list\n",
    "\n",
    "B_hat = np.zeros((d, k))\n",
    "W_hat = np.zeros((k, M))\n",
    "Theta_hat = B_hat.dot(W_hat)\n",
    "\n",
    "cumulative_regret = 0\n",
    "cummulative_regret_list = [0]\n",
    "\n",
    "M_hat = np.zeros((d, d))\n",
    "\n",
    "X = [np.empty((d, epoch_iter)) for _ in range(M)]\n",
    "Y = [np.empty(epoch_iter) for _ in range(M)]\n",
    "    \n",
    "for t in tqdm(range(epoch_iter), desc = 'exploration iterations'):\n",
    "\n",
    "    for i in range(M):\n",
    "\n",
    "        action = action_exploration_list[t, i]\n",
    "        reward = action_set[i, action].dot(Theta_star[:, i])\n",
    "        cumulative_regret += np.max(action_set[i].dot(Theta_star[:, i])) - reward\n",
    "\n",
    "        X[i][:, t] = action_set[i, action].reshape(-1)\n",
    "        Y[i][t] = reward + noise_T[t, i]\n",
    "\n",
    "        M_hat = M_hat + (reward + noise_T[t, i]) ** 2 * np.dot(action_set[i, action].reshape(-1, 1), action_set[i, action].reshape(1, -1))\n",
    "\n",
    "    cummulative_regret_list.append(cumulative_regret)\n",
    "\n",
    "M_hat = M_hat / (epoch_iter * M)\n",
    "M_hat = M_hat.astype(np.float64)\n",
    "U, Sigma, V = np.linalg.svd(M_hat, full_matrices=False)\n",
    "B_hat = U[:, :k]\n",
    "\n",
    "for i in range(M):\n",
    "\n",
    "    W_hat[:, i] = np.linalg.lstsq(np.dot(X[i].T, B_hat), Y[i], rcond = None)[0]\n",
    "\n",
    "Theta_hat = B_hat.dot(W_hat)\n",
    "    \n",
    "for t in tqdm(range(epoch_iter, iterations), desc = 'commit iterations'):\n",
    "\n",
    "    for i in range(M):\n",
    "        \n",
    "        action = np.argmax(np.dot(action_set[i], Theta_hat[:, i]))\n",
    "        reward = action_set[i, action].dot(Theta_star[:, i])\n",
    "        cumulative_regret += np.max(action_set[i].dot(Theta_star[:, i])) - reward\n",
    "        \n",
    "    cummulative_regret_list.append(cumulative_regret)\n",
    "    \n",
    "CR_Trials_E2TC = cummulative_regret_list\n",
    "    \n",
    "end = time.time()\n",
    "print('Finished! The total time we use is: ', end - start)"
   ]
  },
  {
   "cell_type": "code",
   "execution_count": null,
   "id": "9a057dd0",
   "metadata": {},
   "outputs": [],
   "source": [
    "# Naive Approach\n",
    "start = time.time()\n",
    "\n",
    "action_set = A\n",
    "Theta_star = Theta\n",
    "noise_T = noise_list\n",
    "\n",
    "W = np.zeros((M, d, d))\n",
    "U = np.zeros((M, d, 1))\n",
    "\n",
    "Theta_hat = np.zeros((d, M))\n",
    "delta_prime = delta / (4 * iterations)\n",
    "\n",
    "cumulative_regret = 0\n",
    "cummulative_regret_list = [0]\n",
    "\n",
    "for t in tqdm(range(iterations), desc = 'iterations'):\n",
    "\n",
    "    for i in range(M):\n",
    "\n",
    "        # sample eta\n",
    "        eta = np.random.multivariate_normal(mean = np.zeros(d), cov = np.eye(d))\n",
    "\n",
    "        # compute RLS-estimate theta_hat and V\n",
    "        V = ld * np.eye(d) + W[i]\n",
    "        Theta_hat[:, i] = np.dot(np.linalg.inv(V), U[i]).reshape(-1)\n",
    "\n",
    "        # compute the beta\n",
    "        beta = sigma * np.sqrt(d * np.log((1 + t * (L ** 2) / ld) / delta_prime)) + np.sqrt(ld) * S\n",
    "\n",
    "        # calculate V^{-1/2}\n",
    "        eigvals, eigvecs = np.linalg.eigh(V)\n",
    "        temp = eigvecs.dot(np.diag(1.0 / np.sqrt(eigvals))).dot(eigvecs.T)\n",
    "\n",
    "        # compute theta_tilde\n",
    "        theta_tilde = Theta_hat[:, i] + beta * (temp.dot(eta)).reshape(-1)\n",
    "        \n",
    "        action = np.argmax(np.dot(action_set[i], theta_tilde))\n",
    "        feature = action_set[i, action]\n",
    "        reward = feature.dot(Theta_star[:, i])\n",
    "        cumulative_regret += np.max(action_set[i].dot(Theta_star[:, i])) - reward\n",
    "\n",
    "        W[i] += np.dot(feature.reshape(-1, 1), feature.reshape(1, -1))\n",
    "        U[i] += feature.reshape(-1, 1) * (reward + noise_T[t, i])\n",
    "\n",
    "    cummulative_regret_list.append(cumulative_regret)\n",
    "\n",
    "CR_Trials_Naive = cummulative_regret_list\n",
    "    \n",
    "end = time.time()\n",
    "print('Finished! The total time we use is: ', end - start)"
   ]
  },
  {
   "cell_type": "code",
   "execution_count": 10,
   "id": "0e82ec6e-1171-46d6-9083-07706f12faf7",
   "metadata": {},
   "outputs": [
    {
     "name": "stderr",
     "output_type": "stream",
     "text": [
      "iterations: 100%|██████████| 100/100 [00:17<00:00,  5.64it/s]"
     ]
    },
    {
     "name": "stdout",
     "output_type": "stream",
     "text": [
      "Finished! The total time we use is:  17.74202251434326\n"
     ]
    },
    {
     "name": "stderr",
     "output_type": "stream",
     "text": [
      "\n"
     ]
    }
   ],
   "source": [
    "# Cella\n",
    "start = time.time()\n",
    "\n",
    "action_set = A\n",
    "Theta_star = Theta\n",
    "noise_T = noise_list\n",
    "\n",
    "Theta_hat = np.zeros((d, M))\n",
    "\n",
    "cumulative_regret = 0\n",
    "cummulative_regret_list = [0]\n",
    "\n",
    "X = [np.empty((d, 0)) for _ in range(M)]\n",
    "Y = [np.empty(0) for _ in range(M)]\n",
    "\n",
    "for t in tqdm(range(iterations), desc = 'iterations'):\n",
    "\n",
    "    for i in range(M):\n",
    "        \n",
    "        action = np.argmax(np.dot(action_set[i], Theta_hat[:, i]))\n",
    "        reward = action_set[i, action].dot(Theta_star[:, i])\n",
    "        cumulative_regret += np.max(np.dot(action_set[i], Theta_star[:, i])) - reward\n",
    "\n",
    "        X[i] = np.hstack((X[i], action_set[i, action].reshape(-1, 1)))\n",
    "        Y[i] = np.append(Y[i], reward + noise_T[t, i])\n",
    "\n",
    "    Theta_hat = cella_estimator(M, d, iterations, delta, sigma, Y, X, t + 1)\n",
    "\n",
    "    cummulative_regret_list.append(cumulative_regret)\n",
    "\n",
    "CR_Trials_Cella = cummulative_regret_list\n",
    "\n",
    "end = time.time()\n",
    "print('Finished! The total time we use is: ', end - start)"
   ]
  },
  {
   "cell_type": "code",
   "execution_count": 11,
   "id": "551d67fa",
   "metadata": {},
   "outputs": [],
   "source": [
    "def prepare_plot_data(CR_Trials, iterations, trials):\n",
    "    \n",
    "    x_value = np.array([i for i in range(iterations + 1)])\n",
    "    y_value = np.zeros(iterations + 1)\n",
    "    \n",
    "    for i in range(iterations + 1):\n",
    "        \n",
    "        for T in range(trials):\n",
    "            \n",
    "            y_value[i] += CR_Trials[i]\n",
    "            \n",
    "    y_value = y_value / trials\n",
    "            \n",
    "    return x_value, y_value"
   ]
  },
  {
   "cell_type": "code",
   "execution_count": 12,
   "id": "73550dcb",
   "metadata": {},
   "outputs": [],
   "source": [
    "x_proposed, y_proposed = prepare_plot_data(CR_Trials_ICML, iterations, trials)\n",
    "# x_E2TC, y_E2TC = prepare_plot_data(CR_Trials_E2TC, iterations, trials)\n",
    "# x_Naive, y_Naive = prepare_plot_data(CR_Trials_Naive, iterations, trials)\n",
    "x_Cella, y_Cella = prepare_plot_data(CR_Trials_Cella, iterations, trials)"
   ]
  },
  {
   "cell_type": "code",
   "execution_count": 13,
   "id": "2e0185cb",
   "metadata": {},
   "outputs": [
    {
     "data": {
      "text/plain": [
       "[<matplotlib.lines.Line2D at 0x2d2419e0e50>]"
      ]
     },
     "execution_count": 13,
     "metadata": {},
     "output_type": "execute_result"
    },
    {
     "data": {
      "image/png": "[encoded data removed]",
      "text/plain": [
       "<Figure size 640x480 with 1 Axes>"
      ]
     },
     "metadata": {},
     "output_type": "display_data"
    }
   ],
   "source": [
    "plt.plot(x_proposed, y_proposed, color = 'r')\n",
    "# plt.plot(x_E2TC, y_E2TC, color = 'b')\n",
    "# plt.plot(x_Naive, y_Naive, color = 'y')\n",
    "plt.plot(x_Cella, y_Cella, color = 'g')"
   ]
  },
  {
   "cell_type": "code",
   "execution_count": 14,
   "id": "4dbcbf68",
   "metadata": {},
   "outputs": [],
   "source": [
    "np.save('CR_Trials_ICML.npy', np.array(CR_Trials_ICML, dtype=object))\n",
    "# np.save('CR_Trials_E2TC.npy', np.array(CR_Trials_E2TC, dtype=object))\n",
    "# np.save('CR_Trials_Naive.npy', np.array(CR_Trials_Naive, dtype=object))\n",
    "np.save('CR_Trials_Cella.npy', np.array(CR_Trials_Cella, dtype=object))"
   ]
  },
  {
   "cell_type": "code",
   "execution_count": null,
   "id": "32767e2a",
   "metadata": {},
   "outputs": [],
   "source": []
  }
 ],
 "metadata": {
  "kernelspec": {
   "display_name": "Python 3 (ipykernel)",
   "language": "python",
   "name": "python3"
  },
  "language_info": {
   "codemirror_mode": {
    "name": "ipython",
    "version": 3
   },
   "file_extension": ".py",
   "mimetype": "text/x-python",
   "name": "python",
   "nbconvert_exporter": "python",
   "pygments_lexer": "ipython3",
   "version": "3.8.18"
  }
 },
 "nbformat": 4,
 "nbformat_minor": 5
}
